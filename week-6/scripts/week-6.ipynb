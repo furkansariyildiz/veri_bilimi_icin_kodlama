{
  "cells": [
    {
      "cell_type": "markdown",
      "metadata": {
        "id": "Ur58Rxl8kLiU"
      },
      "source": [
        "## DİKKAT !!! VERİ SETİ BÜYÜK OLDUĞUNDAN VE DATAFRAME OLUSTURMASI UZUN SÜRDÜĞÜNDEN DERS BAŞLAMADAN LÜTFEN  1. VE 2. SENARYOLARI ÇALISTIRIN...\n"
      ]
    },
    {
      "cell_type": "markdown",
      "metadata": {
        "id": "-bSTvZB-kLiY"
      },
      "source": [
        "#### 1- Kütüphanelerin Yüklenmesi"
      ]
    },
    {
      "cell_type": "code",
      "execution_count": 4,
      "metadata": {
        "id": "FdAN2IlikLiZ"
      },
      "outputs": [],
      "source": [
        "import numpy as np ## numpy kütüphanesinin import edilmesi\n",
        "import pandas as pd ## pandas kütüphanesinin import edilmesi\n",
        "import seaborn as sns ## seaborn kütüphanesinin import edilmesi\n",
        "import matplotlib.pyplot as plt ## matplotlip kütüphanesinin import edilmesi\n",
        "import datetime as dt ## datetime kütüphanesinin import edilmesi\n",
        "pd.pandas.set_option('display.max_columns', None) ## dataframein tüm sutunlarının görülmesi için gereken kod"
      ]
    },
    {
      "cell_type": "markdown",
      "metadata": {
        "id": "c96sjPEfkLia"
      },
      "source": [
        "### 2- Verisetinin Yüklenmesi"
      ]
    },
    {
      "cell_type": "code",
      "source": [
        "from google.colab import drive\n",
        "drive.mount('/content/drive')     #colab ve drive dan veriyi çeip çalışcaklar kendi drive dosya yolu\n",
        "%cd /content/drive/My\\ Drive/"
      ],
      "metadata": {
        "colab": {
          "base_uri": "https://localhost:8080/"
        },
        "id": "j2_lmWgek__V",
        "outputId": "466f28a2-0af7-4860-bb17-4b087da5ce3d"
      },
      "execution_count": 3,
      "outputs": [
        {
          "output_type": "stream",
          "name": "stdout",
          "text": [
            "Drive already mounted at /content/drive; to attempt to forcibly remount, call drive.mount(\"/content/drive\", force_remount=True).\n",
            "/content/drive/My Drive\n"
          ]
        }
      ]
    },
    {
      "cell_type": "code",
      "execution_count": 5,
      "metadata": {
        "id": "fAuVMUEokLia"
      },
      "outputs": [],
      "source": [
        "data = pd.read_excel(\"/content/MarketSales.xlsx\")"
      ]
    },
    {
      "cell_type": "markdown",
      "metadata": {
        "id": "BSgm1__tkLib"
      },
      "source": [
        "### 3- Verisetinin Orjinalınde değişiklik gelmemesei için veriyi başka bir değişkene atayın"
      ]
    },
    {
      "cell_type": "code",
      "execution_count": 7,
      "metadata": {
        "id": "5iJOhHQ0kLib"
      },
      "outputs": [],
      "source": [
        "#data.copy()\n",
        "data2=data.copy()\n",
        "#data2=data\n"
      ]
    },
    {
      "cell_type": "markdown",
      "metadata": {
        "id": "1rjJjWcBkLib"
      },
      "source": [
        "### 4-Verisetinin Boyutlarına bulunuz"
      ]
    },
    {
      "cell_type": "code",
      "execution_count": 5,
      "metadata": {
        "colab": {
          "base_uri": "https://localhost:8080/"
        },
        "id": "1cGQODPDkLib",
        "outputId": "2abf995f-92c3-4156-df22-e8bdacc39b17"
      },
      "outputs": [
        {
          "output_type": "execute_result",
          "data": {
            "text/plain": [
              "(611108, 26)"
            ]
          },
          "metadata": {},
          "execution_count": 5
        }
      ],
      "source": [
        "data2.shape"
      ]
    },
    {
      "cell_type": "markdown",
      "metadata": {
        "id": "N5rZoti6kLic"
      },
      "source": [
        "### 5-Verisetinin Sutunlarının İsimlerini Yazdırın"
      ]
    },
    {
      "cell_type": "code",
      "execution_count": 6,
      "metadata": {
        "colab": {
          "base_uri": "https://localhost:8080/"
        },
        "id": "TJ7k7BAwkLic",
        "outputId": "a6cdb554-506e-4294-ed26-2c78441c4a68"
      },
      "outputs": [
        {
          "output_type": "execute_result",
          "data": {
            "text/plain": [
              "Index(['ID', 'ITEMCODE', 'ITEMNAME', 'FICHENO', 'DATE_', 'AMOUNT', 'PRICE',\n",
              "       'LINENETTOTAL', 'LINENET', 'BRANCHNR', 'BRANCH', 'SALESMAN', 'CITY',\n",
              "       'REGION', 'LATITUDE', 'LONGITUDE', 'CLIENTCODE', 'CLIENTNAME',\n",
              "       'BRANDCODE', 'BRAND', 'CATEGORY_NAME1', 'CATEGORY_NAME2',\n",
              "       'CATEGORY_NAME3', 'STARTDATE', 'ENDDATE', 'GENDER'],\n",
              "      dtype='object')"
            ]
          },
          "metadata": {},
          "execution_count": 6
        }
      ],
      "source": [
        "data2.columns"
      ]
    },
    {
      "cell_type": "markdown",
      "metadata": {
        "id": "Vi4sqIA6kLic"
      },
      "source": [
        "### 6- Veri setinin bilgilerine ulaşılması"
      ]
    },
    {
      "cell_type": "code",
      "execution_count": 7,
      "metadata": {
        "id": "HQlpnyYSkLic",
        "outputId": "83a3b7d7-3f6f-4af0-bcaf-7a397b248041",
        "colab": {
          "base_uri": "https://localhost:8080/",
          "height": 909
        }
      },
      "outputs": [
        {
          "output_type": "stream",
          "name": "stdout",
          "text": [
            "<class 'pandas.core.frame.DataFrame'>\n",
            "RangeIndex: 611108 entries, 0 to 611107\n",
            "Data columns (total 26 columns):\n",
            " #   Column          Non-Null Count   Dtype         \n",
            "---  ------          --------------   -----         \n",
            " 0   ID              611107 non-null  float64       \n",
            " 1   ITEMCODE        603941 non-null  float64       \n",
            " 2   ITEMNAME        603941 non-null  object        \n",
            " 3   FICHENO         611108 non-null  int64         \n",
            " 4   DATE_           611107 non-null  datetime64[ns]\n",
            " 5   AMOUNT          611107 non-null  float64       \n",
            " 6   PRICE           611107 non-null  float64       \n",
            " 7   LINENETTOTAL    611107 non-null  float64       \n",
            " 8   LINENET         611107 non-null  float64       \n",
            " 9   BRANCHNR        611107 non-null  float64       \n",
            " 10  BRANCH          611107 non-null  object        \n",
            " 11  SALESMAN        611108 non-null  object        \n",
            " 12  CITY            611107 non-null  object        \n",
            " 13  REGION          611107 non-null  object        \n",
            " 14  LATITUDE        611107 non-null  float64       \n",
            " 15  LONGITUDE       611107 non-null  float64       \n",
            " 16  CLIENTCODE      592760 non-null  object        \n",
            " 17  CLIENTNAME      592743 non-null  object        \n",
            " 18  BRANDCODE       575551 non-null  object        \n",
            " 19  BRAND           575551 non-null  object        \n",
            " 20  CATEGORY_NAME1  603941 non-null  object        \n",
            " 21  CATEGORY_NAME2  583448 non-null  object        \n",
            " 22  CATEGORY_NAME3  401649 non-null  object        \n",
            " 23  STARTDATE       611108 non-null  datetime64[ns]\n",
            " 24  ENDDATE         611108 non-null  datetime64[ns]\n",
            " 25  GENDER          592743 non-null  object        \n",
            "dtypes: datetime64[ns](3), float64(9), int64(1), object(13)\n",
            "memory usage: 121.2+ MB\n"
          ]
        },
        {
          "output_type": "execute_result",
          "data": {
            "text/plain": [
              "                 ID       ITEMCODE        FICHENO  \\\n",
              "count  6.111070e+05  603941.000000  611108.000000   \n",
              "mean   3.068463e+05    9012.469698   87348.360138   \n",
              "min    1.000000e+00       6.000000   15560.000000   \n",
              "25%    1.528645e+05    3269.000000   51857.000000   \n",
              "50%    3.056480e+05    5719.000000   87169.000000   \n",
              "75%    4.584295e+05   14780.000000  122269.000000   \n",
              "max    1.445622e+06   23602.000000  586470.000000   \n",
              "std    1.812597e+05    7423.501236   42041.919628   \n",
              "\n",
              "                               DATE_         AMOUNT          PRICE  \\\n",
              "count                         611107  611107.000000  611107.000000   \n",
              "mean   2017-02-17 00:53:11.150486016       1.270204       3.959574   \n",
              "min              2017-01-02 00:00:00       0.001000       0.010000   \n",
              "25%              2017-01-26 00:00:00       1.000000       1.000000   \n",
              "50%              2017-02-17 00:00:00       1.000000       2.300000   \n",
              "75%              2017-03-10 00:00:00       1.000000       4.650000   \n",
              "max              2017-03-31 00:00:00     502.000000    1799.000000   \n",
              "std                              NaN       1.995301       6.683096   \n",
              "\n",
              "        LINENETTOTAL        LINENET       BRANCHNR       LATITUDE  \\\n",
              "count  611107.000000  611107.000000  611107.000000  611107.000000   \n",
              "mean        4.055741       3.735345      39.201544      39.314996   \n",
              "min         0.010000       0.010000       1.000000      36.401800   \n",
              "25%         1.250000       1.110000      22.000000      37.866700   \n",
              "50%         2.430000       2.220000      40.000000      39.776700   \n",
              "75%         4.960000       4.580000      55.000000      41.005300   \n",
              "max      4278.000000    3625.430000      81.000000      42.023100   \n",
              "std        11.956075      10.817679      21.827203       1.584433   \n",
              "\n",
              "          LONGITUDE                      STARTDATE  \\\n",
              "count  6.111070e+05                         611108   \n",
              "mean   3.029614e+05  2017-02-18 16:54:21.273881856   \n",
              "min    2.641420e+01            2017-01-03 09:25:03   \n",
              "25%    2.897700e+01            2017-01-27 19:48:04   \n",
              "50%    3.179870e+01            2017-02-18 20:21:07   \n",
              "75%    3.634980e+01            2017-03-11 18:51:45   \n",
              "max    4.302160e+07            2017-11-15 19:12:30   \n",
              "std    3.597321e+06                            NaN   \n",
              "\n",
              "                             ENDDATE  \n",
              "count                         611108  \n",
              "mean   2017-02-18 16:55:25.428137984  \n",
              "min              2017-01-03 09:25:43  \n",
              "25%              2017-01-27 19:48:33  \n",
              "50%              2017-02-18 20:21:52  \n",
              "75%              2017-03-11 18:51:57  \n",
              "max              2017-11-15 19:13:38  \n",
              "std                              NaN  "
            ],
            "text/html": [
              "\n",
              "  <div id=\"df-3083434f-9fd6-4aaa-985e-1017f382834f\" class=\"colab-df-container\">\n",
              "    <div>\n",
              "<style scoped>\n",
              "    .dataframe tbody tr th:only-of-type {\n",
              "        vertical-align: middle;\n",
              "    }\n",
              "\n",
              "    .dataframe tbody tr th {\n",
              "        vertical-align: top;\n",
              "    }\n",
              "\n",
              "    .dataframe thead th {\n",
              "        text-align: right;\n",
              "    }\n",
              "</style>\n",
              "<table border=\"1\" class=\"dataframe\">\n",
              "  <thead>\n",
              "    <tr style=\"text-align: right;\">\n",
              "      <th></th>\n",
              "      <th>ID</th>\n",
              "      <th>ITEMCODE</th>\n",
              "      <th>FICHENO</th>\n",
              "      <th>DATE_</th>\n",
              "      <th>AMOUNT</th>\n",
              "      <th>PRICE</th>\n",
              "      <th>LINENETTOTAL</th>\n",
              "      <th>LINENET</th>\n",
              "      <th>BRANCHNR</th>\n",
              "      <th>LATITUDE</th>\n",
              "      <th>LONGITUDE</th>\n",
              "      <th>STARTDATE</th>\n",
              "      <th>ENDDATE</th>\n",
              "    </tr>\n",
              "  </thead>\n",
              "  <tbody>\n",
              "    <tr>\n",
              "      <th>count</th>\n",
              "      <td>6.111070e+05</td>\n",
              "      <td>603941.000000</td>\n",
              "      <td>611108.000000</td>\n",
              "      <td>611107</td>\n",
              "      <td>611107.000000</td>\n",
              "      <td>611107.000000</td>\n",
              "      <td>611107.000000</td>\n",
              "      <td>611107.000000</td>\n",
              "      <td>611107.000000</td>\n",
              "      <td>611107.000000</td>\n",
              "      <td>6.111070e+05</td>\n",
              "      <td>611108</td>\n",
              "      <td>611108</td>\n",
              "    </tr>\n",
              "    <tr>\n",
              "      <th>mean</th>\n",
              "      <td>3.068463e+05</td>\n",
              "      <td>9012.469698</td>\n",
              "      <td>87348.360138</td>\n",
              "      <td>2017-02-17 00:53:11.150486016</td>\n",
              "      <td>1.270204</td>\n",
              "      <td>3.959574</td>\n",
              "      <td>4.055741</td>\n",
              "      <td>3.735345</td>\n",
              "      <td>39.201544</td>\n",
              "      <td>39.314996</td>\n",
              "      <td>3.029614e+05</td>\n",
              "      <td>2017-02-18 16:54:21.273881856</td>\n",
              "      <td>2017-02-18 16:55:25.428137984</td>\n",
              "    </tr>\n",
              "    <tr>\n",
              "      <th>min</th>\n",
              "      <td>1.000000e+00</td>\n",
              "      <td>6.000000</td>\n",
              "      <td>15560.000000</td>\n",
              "      <td>2017-01-02 00:00:00</td>\n",
              "      <td>0.001000</td>\n",
              "      <td>0.010000</td>\n",
              "      <td>0.010000</td>\n",
              "      <td>0.010000</td>\n",
              "      <td>1.000000</td>\n",
              "      <td>36.401800</td>\n",
              "      <td>2.641420e+01</td>\n",
              "      <td>2017-01-03 09:25:03</td>\n",
              "      <td>2017-01-03 09:25:43</td>\n",
              "    </tr>\n",
              "    <tr>\n",
              "      <th>25%</th>\n",
              "      <td>1.528645e+05</td>\n",
              "      <td>3269.000000</td>\n",
              "      <td>51857.000000</td>\n",
              "      <td>2017-01-26 00:00:00</td>\n",
              "      <td>1.000000</td>\n",
              "      <td>1.000000</td>\n",
              "      <td>1.250000</td>\n",
              "      <td>1.110000</td>\n",
              "      <td>22.000000</td>\n",
              "      <td>37.866700</td>\n",
              "      <td>2.897700e+01</td>\n",
              "      <td>2017-01-27 19:48:04</td>\n",
              "      <td>2017-01-27 19:48:33</td>\n",
              "    </tr>\n",
              "    <tr>\n",
              "      <th>50%</th>\n",
              "      <td>3.056480e+05</td>\n",
              "      <td>5719.000000</td>\n",
              "      <td>87169.000000</td>\n",
              "      <td>2017-02-17 00:00:00</td>\n",
              "      <td>1.000000</td>\n",
              "      <td>2.300000</td>\n",
              "      <td>2.430000</td>\n",
              "      <td>2.220000</td>\n",
              "      <td>40.000000</td>\n",
              "      <td>39.776700</td>\n",
              "      <td>3.179870e+01</td>\n",
              "      <td>2017-02-18 20:21:07</td>\n",
              "      <td>2017-02-18 20:21:52</td>\n",
              "    </tr>\n",
              "    <tr>\n",
              "      <th>75%</th>\n",
              "      <td>4.584295e+05</td>\n",
              "      <td>14780.000000</td>\n",
              "      <td>122269.000000</td>\n",
              "      <td>2017-03-10 00:00:00</td>\n",
              "      <td>1.000000</td>\n",
              "      <td>4.650000</td>\n",
              "      <td>4.960000</td>\n",
              "      <td>4.580000</td>\n",
              "      <td>55.000000</td>\n",
              "      <td>41.005300</td>\n",
              "      <td>3.634980e+01</td>\n",
              "      <td>2017-03-11 18:51:45</td>\n",
              "      <td>2017-03-11 18:51:57</td>\n",
              "    </tr>\n",
              "    <tr>\n",
              "      <th>max</th>\n",
              "      <td>1.445622e+06</td>\n",
              "      <td>23602.000000</td>\n",
              "      <td>586470.000000</td>\n",
              "      <td>2017-03-31 00:00:00</td>\n",
              "      <td>502.000000</td>\n",
              "      <td>1799.000000</td>\n",
              "      <td>4278.000000</td>\n",
              "      <td>3625.430000</td>\n",
              "      <td>81.000000</td>\n",
              "      <td>42.023100</td>\n",
              "      <td>4.302160e+07</td>\n",
              "      <td>2017-11-15 19:12:30</td>\n",
              "      <td>2017-11-15 19:13:38</td>\n",
              "    </tr>\n",
              "    <tr>\n",
              "      <th>std</th>\n",
              "      <td>1.812597e+05</td>\n",
              "      <td>7423.501236</td>\n",
              "      <td>42041.919628</td>\n",
              "      <td>NaN</td>\n",
              "      <td>1.995301</td>\n",
              "      <td>6.683096</td>\n",
              "      <td>11.956075</td>\n",
              "      <td>10.817679</td>\n",
              "      <td>21.827203</td>\n",
              "      <td>1.584433</td>\n",
              "      <td>3.597321e+06</td>\n",
              "      <td>NaN</td>\n",
              "      <td>NaN</td>\n",
              "    </tr>\n",
              "  </tbody>\n",
              "</table>\n",
              "</div>\n",
              "    <div class=\"colab-df-buttons\">\n",
              "\n",
              "  <div class=\"colab-df-container\">\n",
              "    <button class=\"colab-df-convert\" onclick=\"convertToInteractive('df-3083434f-9fd6-4aaa-985e-1017f382834f')\"\n",
              "            title=\"Convert this dataframe to an interactive table.\"\n",
              "            style=\"display:none;\">\n",
              "\n",
              "  <svg xmlns=\"http://www.w3.org/2000/svg\" height=\"24px\" viewBox=\"0 -960 960 960\">\n",
              "    <path d=\"M120-120v-720h720v720H120Zm60-500h600v-160H180v160Zm220 220h160v-160H400v160Zm0 220h160v-160H400v160ZM180-400h160v-160H180v160Zm440 0h160v-160H620v160ZM180-180h160v-160H180v160Zm440 0h160v-160H620v160Z\"/>\n",
              "  </svg>\n",
              "    </button>\n",
              "\n",
              "  <style>\n",
              "    .colab-df-container {\n",
              "      display:flex;\n",
              "      gap: 12px;\n",
              "    }\n",
              "\n",
              "    .colab-df-convert {\n",
              "      background-color: #E8F0FE;\n",
              "      border: none;\n",
              "      border-radius: 50%;\n",
              "      cursor: pointer;\n",
              "      display: none;\n",
              "      fill: #1967D2;\n",
              "      height: 32px;\n",
              "      padding: 0 0 0 0;\n",
              "      width: 32px;\n",
              "    }\n",
              "\n",
              "    .colab-df-convert:hover {\n",
              "      background-color: #E2EBFA;\n",
              "      box-shadow: 0px 1px 2px rgba(60, 64, 67, 0.3), 0px 1px 3px 1px rgba(60, 64, 67, 0.15);\n",
              "      fill: #174EA6;\n",
              "    }\n",
              "\n",
              "    .colab-df-buttons div {\n",
              "      margin-bottom: 4px;\n",
              "    }\n",
              "\n",
              "    [theme=dark] .colab-df-convert {\n",
              "      background-color: #3B4455;\n",
              "      fill: #D2E3FC;\n",
              "    }\n",
              "\n",
              "    [theme=dark] .colab-df-convert:hover {\n",
              "      background-color: #434B5C;\n",
              "      box-shadow: 0px 1px 3px 1px rgba(0, 0, 0, 0.15);\n",
              "      filter: drop-shadow(0px 1px 2px rgba(0, 0, 0, 0.3));\n",
              "      fill: #FFFFFF;\n",
              "    }\n",
              "  </style>\n",
              "\n",
              "    <script>\n",
              "      const buttonEl =\n",
              "        document.querySelector('#df-3083434f-9fd6-4aaa-985e-1017f382834f button.colab-df-convert');\n",
              "      buttonEl.style.display =\n",
              "        google.colab.kernel.accessAllowed ? 'block' : 'none';\n",
              "\n",
              "      async function convertToInteractive(key) {\n",
              "        const element = document.querySelector('#df-3083434f-9fd6-4aaa-985e-1017f382834f');\n",
              "        const dataTable =\n",
              "          await google.colab.kernel.invokeFunction('convertToInteractive',\n",
              "                                                    [key], {});\n",
              "        if (!dataTable) return;\n",
              "\n",
              "        const docLinkHtml = 'Like what you see? Visit the ' +\n",
              "          '<a target=\"_blank\" href=https://colab.research.google.com/notebooks/data_table.ipynb>data table notebook</a>'\n",
              "          + ' to learn more about interactive tables.';\n",
              "        element.innerHTML = '';\n",
              "        dataTable['output_type'] = 'display_data';\n",
              "        await google.colab.output.renderOutput(dataTable, element);\n",
              "        const docLink = document.createElement('div');\n",
              "        docLink.innerHTML = docLinkHtml;\n",
              "        element.appendChild(docLink);\n",
              "      }\n",
              "    </script>\n",
              "  </div>\n",
              "\n",
              "\n",
              "<div id=\"df-461c74cc-9fcb-456e-b666-899c6c5d6434\">\n",
              "  <button class=\"colab-df-quickchart\" onclick=\"quickchart('df-461c74cc-9fcb-456e-b666-899c6c5d6434')\"\n",
              "            title=\"Suggest charts\"\n",
              "            style=\"display:none;\">\n",
              "\n",
              "<svg xmlns=\"http://www.w3.org/2000/svg\" height=\"24px\"viewBox=\"0 0 24 24\"\n",
              "     width=\"24px\">\n",
              "    <g>\n",
              "        <path d=\"M19 3H5c-1.1 0-2 .9-2 2v14c0 1.1.9 2 2 2h14c1.1 0 2-.9 2-2V5c0-1.1-.9-2-2-2zM9 17H7v-7h2v7zm4 0h-2V7h2v10zm4 0h-2v-4h2v4z\"/>\n",
              "    </g>\n",
              "</svg>\n",
              "  </button>\n",
              "\n",
              "<style>\n",
              "  .colab-df-quickchart {\n",
              "      --bg-color: #E8F0FE;\n",
              "      --fill-color: #1967D2;\n",
              "      --hover-bg-color: #E2EBFA;\n",
              "      --hover-fill-color: #174EA6;\n",
              "      --disabled-fill-color: #AAA;\n",
              "      --disabled-bg-color: #DDD;\n",
              "  }\n",
              "\n",
              "  [theme=dark] .colab-df-quickchart {\n",
              "      --bg-color: #3B4455;\n",
              "      --fill-color: #D2E3FC;\n",
              "      --hover-bg-color: #434B5C;\n",
              "      --hover-fill-color: #FFFFFF;\n",
              "      --disabled-bg-color: #3B4455;\n",
              "      --disabled-fill-color: #666;\n",
              "  }\n",
              "\n",
              "  .colab-df-quickchart {\n",
              "    background-color: var(--bg-color);\n",
              "    border: none;\n",
              "    border-radius: 50%;\n",
              "    cursor: pointer;\n",
              "    display: none;\n",
              "    fill: var(--fill-color);\n",
              "    height: 32px;\n",
              "    padding: 0;\n",
              "    width: 32px;\n",
              "  }\n",
              "\n",
              "  .colab-df-quickchart:hover {\n",
              "    background-color: var(--hover-bg-color);\n",
              "    box-shadow: 0 1px 2px rgba(60, 64, 67, 0.3), 0 1px 3px 1px rgba(60, 64, 67, 0.15);\n",
              "    fill: var(--button-hover-fill-color);\n",
              "  }\n",
              "\n",
              "  .colab-df-quickchart-complete:disabled,\n",
              "  .colab-df-quickchart-complete:disabled:hover {\n",
              "    background-color: var(--disabled-bg-color);\n",
              "    fill: var(--disabled-fill-color);\n",
              "    box-shadow: none;\n",
              "  }\n",
              "\n",
              "  .colab-df-spinner {\n",
              "    border: 2px solid var(--fill-color);\n",
              "    border-color: transparent;\n",
              "    border-bottom-color: var(--fill-color);\n",
              "    animation:\n",
              "      spin 1s steps(1) infinite;\n",
              "  }\n",
              "\n",
              "  @keyframes spin {\n",
              "    0% {\n",
              "      border-color: transparent;\n",
              "      border-bottom-color: var(--fill-color);\n",
              "      border-left-color: var(--fill-color);\n",
              "    }\n",
              "    20% {\n",
              "      border-color: transparent;\n",
              "      border-left-color: var(--fill-color);\n",
              "      border-top-color: var(--fill-color);\n",
              "    }\n",
              "    30% {\n",
              "      border-color: transparent;\n",
              "      border-left-color: var(--fill-color);\n",
              "      border-top-color: var(--fill-color);\n",
              "      border-right-color: var(--fill-color);\n",
              "    }\n",
              "    40% {\n",
              "      border-color: transparent;\n",
              "      border-right-color: var(--fill-color);\n",
              "      border-top-color: var(--fill-color);\n",
              "    }\n",
              "    60% {\n",
              "      border-color: transparent;\n",
              "      border-right-color: var(--fill-color);\n",
              "    }\n",
              "    80% {\n",
              "      border-color: transparent;\n",
              "      border-right-color: var(--fill-color);\n",
              "      border-bottom-color: var(--fill-color);\n",
              "    }\n",
              "    90% {\n",
              "      border-color: transparent;\n",
              "      border-bottom-color: var(--fill-color);\n",
              "    }\n",
              "  }\n",
              "</style>\n",
              "\n",
              "  <script>\n",
              "    async function quickchart(key) {\n",
              "      const quickchartButtonEl =\n",
              "        document.querySelector('#' + key + ' button');\n",
              "      quickchartButtonEl.disabled = true;  // To prevent multiple clicks.\n",
              "      quickchartButtonEl.classList.add('colab-df-spinner');\n",
              "      try {\n",
              "        const charts = await google.colab.kernel.invokeFunction(\n",
              "            'suggestCharts', [key], {});\n",
              "      } catch (error) {\n",
              "        console.error('Error during call to suggestCharts:', error);\n",
              "      }\n",
              "      quickchartButtonEl.classList.remove('colab-df-spinner');\n",
              "      quickchartButtonEl.classList.add('colab-df-quickchart-complete');\n",
              "    }\n",
              "    (() => {\n",
              "      let quickchartButtonEl =\n",
              "        document.querySelector('#df-461c74cc-9fcb-456e-b666-899c6c5d6434 button');\n",
              "      quickchartButtonEl.style.display =\n",
              "        google.colab.kernel.accessAllowed ? 'block' : 'none';\n",
              "    })();\n",
              "  </script>\n",
              "</div>\n",
              "\n",
              "    </div>\n",
              "  </div>\n"
            ],
            "application/vnd.google.colaboratory.intrinsic+json": {
              "type": "dataframe",
              "summary": "{\n  \"name\": \"data2\",\n  \"rows\": 8,\n  \"fields\": [\n    {\n      \"column\": \"ID\",\n      \"properties\": {\n        \"dtype\": \"number\",\n        \"std\": 450276.4180970027,\n        \"min\": 1.0,\n        \"max\": 1445622.0,\n        \"num_unique_values\": 8,\n        \"samples\": [\n          306846.2916641439,\n          458429.5,\n          611107.0\n        ],\n        \"semantic_type\": \"\",\n        \"description\": \"\"\n      }\n    },\n    {\n      \"column\": \"ITEMCODE\",\n      \"properties\": {\n        \"dtype\": \"number\",\n        \"std\": 210429.22354413956,\n        \"min\": 6.0,\n        \"max\": 603941.0,\n        \"num_unique_values\": 8,\n        \"samples\": [\n          9012.469698198996,\n          14780.0,\n          603941.0\n        ],\n        \"semantic_type\": \"\",\n        \"description\": \"\"\n      }\n    },\n    {\n      \"column\": \"FICHENO\",\n      \"properties\": {\n        \"dtype\": \"number\",\n        \"std\": 248062.65725474016,\n        \"min\": 15560.0,\n        \"max\": 611108.0,\n        \"num_unique_values\": 8,\n        \"samples\": [\n          87348.36013765162,\n          122269.0,\n          611108.0\n        ],\n        \"semantic_type\": \"\",\n        \"description\": \"\"\n      }\n    },\n    {\n      \"column\": \"DATE_\",\n      \"properties\": {\n        \"dtype\": \"date\",\n        \"min\": \"1970-01-01 00:00:00.000611107\",\n        \"max\": \"2017-03-31 00:00:00\",\n        \"num_unique_values\": 7,\n        \"samples\": [\n          \"611107\",\n          \"2017-02-17 00:53:11.150486016\",\n          \"2017-03-10 00:00:00\"\n        ],\n        \"semantic_type\": \"\",\n        \"description\": \"\"\n      }\n    },\n    {\n      \"column\": \"AMOUNT\",\n      \"properties\": {\n        \"dtype\": \"number\",\n        \"std\": 216033.35165260907,\n        \"min\": 0.001,\n        \"max\": 611107.0,\n        \"num_unique_values\": 6,\n        \"samples\": [\n          611107.0,\n          1.27020400519058,\n          1.99530117743984\n        ],\n        \"semantic_type\": \"\",\n        \"description\": \"\"\n      }\n    },\n    {\n      \"column\": \"PRICE\",\n      \"properties\": {\n        \"dtype\": \"number\",\n        \"std\": 215968.0634023759,\n        \"min\": 0.01,\n        \"max\": 611107.0,\n        \"num_unique_values\": 8,\n        \"samples\": [\n          3.959574264408688,\n          4.65,\n          611107.0\n        ],\n        \"semantic_type\": \"\",\n        \"description\": \"\"\n      }\n    },\n    {\n      \"column\": \"LINENETTOTAL\",\n      \"properties\": {\n        \"dtype\": \"number\",\n        \"std\": 215846.81586795134,\n        \"min\": 0.01,\n        \"max\": 611107.0,\n        \"num_unique_values\": 8,\n        \"samples\": [\n          4.055741204077189,\n          4.96,\n          611107.0\n        ],\n        \"semantic_type\": \"\",\n        \"description\": \"\"\n      }\n    },\n    {\n      \"column\": \"LINENET\",\n      \"properties\": {\n        \"dtype\": \"number\",\n        \"std\": 215878.4249462181,\n        \"min\": 0.01,\n        \"max\": 611107.0,\n        \"num_unique_values\": 8,\n        \"samples\": [\n          3.7353451359581875,\n          4.58,\n          611107.0\n        ],\n        \"semantic_type\": \"\",\n        \"description\": \"\"\n      }\n    },\n    {\n      \"column\": \"BRANCHNR\",\n      \"properties\": {\n        \"dtype\": \"number\",\n        \"std\": 216045.81976094228,\n        \"min\": 1.0,\n        \"max\": 611107.0,\n        \"num_unique_values\": 8,\n        \"samples\": [\n          39.20154408311474,\n          55.0,\n          611107.0\n        ],\n        \"semantic_type\": \"\",\n        \"description\": \"\"\n      }\n    },\n    {\n      \"column\": \"LATITUDE\",\n      \"properties\": {\n        \"dtype\": \"number\",\n        \"std\": 216046.93282440057,\n        \"min\": 1.58443260825157,\n        \"max\": 611107.0,\n        \"num_unique_values\": 8,\n        \"samples\": [\n          39.314995886808696,\n          41.0053,\n          611107.0\n        ],\n        \"semantic_type\": \"\",\n        \"description\": \"\"\n      }\n    },\n    {\n      \"column\": \"LONGITUDE\",\n      \"properties\": {\n        \"dtype\": \"number\",\n        \"std\": 15032531.974908542,\n        \"min\": 26.4142,\n        \"max\": 43021596.0,\n        \"num_unique_values\": 8,\n        \"samples\": [\n          302961.41487772507,\n          36.3498,\n          611107.0\n        ],\n        \"semantic_type\": \"\",\n        \"description\": \"\"\n      }\n    },\n    {\n      \"column\": \"STARTDATE\",\n      \"properties\": {\n        \"dtype\": \"date\",\n        \"min\": \"1970-01-01 00:00:00.000611108\",\n        \"max\": \"2017-11-15 19:12:30\",\n        \"num_unique_values\": 7,\n        \"samples\": [\n          \"611108\",\n          \"2017-02-18 16:54:21.273881856\",\n          \"2017-03-11 18:51:45\"\n        ],\n        \"semantic_type\": \"\",\n        \"description\": \"\"\n      }\n    },\n    {\n      \"column\": \"ENDDATE\",\n      \"properties\": {\n        \"dtype\": \"date\",\n        \"min\": \"1970-01-01 00:00:00.000611108\",\n        \"max\": \"2017-11-15 19:13:38\",\n        \"num_unique_values\": 7,\n        \"samples\": [\n          \"611108\",\n          \"2017-02-18 16:55:25.428137984\",\n          \"2017-03-11 18:51:57\"\n        ],\n        \"semantic_type\": \"\",\n        \"description\": \"\"\n      }\n    }\n  ]\n}"
            }
          },
          "metadata": {},
          "execution_count": 7
        }
      ],
      "source": [
        "data2.info()\n",
        "data2.describe()"
      ]
    },
    {
      "cell_type": "markdown",
      "metadata": {
        "id": "GkKMA-nPkLic"
      },
      "source": [
        "### 7- Veri Setinde Boş Değer Varmı sorgulanması"
      ]
    },
    {
      "cell_type": "code",
      "execution_count": 8,
      "metadata": {
        "id": "UvdBsSBpkLic",
        "outputId": "1ac234aa-9752-4d3c-8494-efac91646541",
        "colab": {
          "base_uri": "https://localhost:8080/",
          "height": 900
        }
      },
      "outputs": [
        {
          "output_type": "execute_result",
          "data": {
            "text/plain": [
              "ID                 True\n",
              "ITEMCODE           True\n",
              "ITEMNAME           True\n",
              "FICHENO           False\n",
              "DATE_              True\n",
              "AMOUNT             True\n",
              "PRICE              True\n",
              "LINENETTOTAL       True\n",
              "LINENET            True\n",
              "BRANCHNR           True\n",
              "BRANCH             True\n",
              "SALESMAN          False\n",
              "CITY               True\n",
              "REGION             True\n",
              "LATITUDE           True\n",
              "LONGITUDE          True\n",
              "CLIENTCODE         True\n",
              "CLIENTNAME         True\n",
              "BRANDCODE          True\n",
              "BRAND              True\n",
              "CATEGORY_NAME1     True\n",
              "CATEGORY_NAME2     True\n",
              "CATEGORY_NAME3     True\n",
              "STARTDATE         False\n",
              "ENDDATE           False\n",
              "GENDER             True\n",
              "dtype: bool"
            ],
            "text/html": [
              "<div>\n",
              "<style scoped>\n",
              "    .dataframe tbody tr th:only-of-type {\n",
              "        vertical-align: middle;\n",
              "    }\n",
              "\n",
              "    .dataframe tbody tr th {\n",
              "        vertical-align: top;\n",
              "    }\n",
              "\n",
              "    .dataframe thead th {\n",
              "        text-align: right;\n",
              "    }\n",
              "</style>\n",
              "<table border=\"1\" class=\"dataframe\">\n",
              "  <thead>\n",
              "    <tr style=\"text-align: right;\">\n",
              "      <th></th>\n",
              "      <th>0</th>\n",
              "    </tr>\n",
              "  </thead>\n",
              "  <tbody>\n",
              "    <tr>\n",
              "      <th>ID</th>\n",
              "      <td>True</td>\n",
              "    </tr>\n",
              "    <tr>\n",
              "      <th>ITEMCODE</th>\n",
              "      <td>True</td>\n",
              "    </tr>\n",
              "    <tr>\n",
              "      <th>ITEMNAME</th>\n",
              "      <td>True</td>\n",
              "    </tr>\n",
              "    <tr>\n",
              "      <th>FICHENO</th>\n",
              "      <td>False</td>\n",
              "    </tr>\n",
              "    <tr>\n",
              "      <th>DATE_</th>\n",
              "      <td>True</td>\n",
              "    </tr>\n",
              "    <tr>\n",
              "      <th>AMOUNT</th>\n",
              "      <td>True</td>\n",
              "    </tr>\n",
              "    <tr>\n",
              "      <th>PRICE</th>\n",
              "      <td>True</td>\n",
              "    </tr>\n",
              "    <tr>\n",
              "      <th>LINENETTOTAL</th>\n",
              "      <td>True</td>\n",
              "    </tr>\n",
              "    <tr>\n",
              "      <th>LINENET</th>\n",
              "      <td>True</td>\n",
              "    </tr>\n",
              "    <tr>\n",
              "      <th>BRANCHNR</th>\n",
              "      <td>True</td>\n",
              "    </tr>\n",
              "    <tr>\n",
              "      <th>BRANCH</th>\n",
              "      <td>True</td>\n",
              "    </tr>\n",
              "    <tr>\n",
              "      <th>SALESMAN</th>\n",
              "      <td>False</td>\n",
              "    </tr>\n",
              "    <tr>\n",
              "      <th>CITY</th>\n",
              "      <td>True</td>\n",
              "    </tr>\n",
              "    <tr>\n",
              "      <th>REGION</th>\n",
              "      <td>True</td>\n",
              "    </tr>\n",
              "    <tr>\n",
              "      <th>LATITUDE</th>\n",
              "      <td>True</td>\n",
              "    </tr>\n",
              "    <tr>\n",
              "      <th>LONGITUDE</th>\n",
              "      <td>True</td>\n",
              "    </tr>\n",
              "    <tr>\n",
              "      <th>CLIENTCODE</th>\n",
              "      <td>True</td>\n",
              "    </tr>\n",
              "    <tr>\n",
              "      <th>CLIENTNAME</th>\n",
              "      <td>True</td>\n",
              "    </tr>\n",
              "    <tr>\n",
              "      <th>BRANDCODE</th>\n",
              "      <td>True</td>\n",
              "    </tr>\n",
              "    <tr>\n",
              "      <th>BRAND</th>\n",
              "      <td>True</td>\n",
              "    </tr>\n",
              "    <tr>\n",
              "      <th>CATEGORY_NAME1</th>\n",
              "      <td>True</td>\n",
              "    </tr>\n",
              "    <tr>\n",
              "      <th>CATEGORY_NAME2</th>\n",
              "      <td>True</td>\n",
              "    </tr>\n",
              "    <tr>\n",
              "      <th>CATEGORY_NAME3</th>\n",
              "      <td>True</td>\n",
              "    </tr>\n",
              "    <tr>\n",
              "      <th>STARTDATE</th>\n",
              "      <td>False</td>\n",
              "    </tr>\n",
              "    <tr>\n",
              "      <th>ENDDATE</th>\n",
              "      <td>False</td>\n",
              "    </tr>\n",
              "    <tr>\n",
              "      <th>GENDER</th>\n",
              "      <td>True</td>\n",
              "    </tr>\n",
              "  </tbody>\n",
              "</table>\n",
              "</div><br><label><b>dtype:</b> bool</label>"
            ]
          },
          "metadata": {},
          "execution_count": 8
        }
      ],
      "source": [
        "data2.isnull().any()  #data2.isnull().sum()"
      ]
    },
    {
      "cell_type": "markdown",
      "metadata": {
        "id": "wPAAlMEdkLic"
      },
      "source": [
        "### 8- Verisetindeki Sutunlarda Toplam Kaç Adet Değer Var Bulunuz"
      ]
    },
    {
      "cell_type": "code",
      "execution_count": 9,
      "metadata": {
        "id": "9l-oFG5ykLid",
        "outputId": "79c42987-511c-4afc-f203-cb12a6d84d42",
        "colab": {
          "base_uri": "https://localhost:8080/"
        }
      },
      "outputs": [
        {
          "output_type": "execute_result",
          "data": {
            "text/plain": [
              "611108"
            ]
          },
          "metadata": {},
          "execution_count": 9
        }
      ],
      "source": [
        "column_length = data2.shape[0]\n",
        "column_length"
      ]
    },
    {
      "cell_type": "markdown",
      "metadata": {
        "id": "BQm3tafIkLid"
      },
      "source": [
        "### 9- Verisetinde Toplam Kaç Adet Değer Var Bulunuz"
      ]
    },
    {
      "cell_type": "code",
      "execution_count": 10,
      "metadata": {
        "id": "1LYZ2054kLid",
        "outputId": "1ca1a2b7-6656-4b6a-cebf-b17e36e31a49",
        "colab": {
          "base_uri": "https://localhost:8080/"
        }
      },
      "outputs": [
        {
          "output_type": "stream",
          "name": "stdout",
          "text": [
            "Toplam değer: 15888808\n"
          ]
        }
      ],
      "source": [
        "row_length = data2.shape[1]\n",
        "row_length\n",
        "print(\"Toplam değer: \" + str(column_length * row_length))"
      ]
    },
    {
      "cell_type": "markdown",
      "metadata": {
        "id": "lV2xqxH9kLid"
      },
      "source": [
        "### 10- Verisetinde Boş Değer Olan Sutunların İsimlerini yazdıralım"
      ]
    },
    {
      "cell_type": "code",
      "execution_count": 11,
      "metadata": {
        "id": "3v61dw90kLid",
        "colab": {
          "base_uri": "https://localhost:8080/"
        },
        "outputId": "0bf5073e-27d1-4f0c-b0bd-1b1f944b8631"
      },
      "outputs": [
        {
          "output_type": "stream",
          "name": "stdout",
          "text": [
            "['ID', 'ITEMCODE', 'ITEMNAME', 'DATE_', 'AMOUNT', 'PRICE', 'LINENETTOTAL', 'LINENET', 'BRANCHNR', 'BRANCH', 'CITY', 'REGION', 'LATITUDE', 'LONGITUDE', 'CLIENTCODE', 'CLIENTNAME', 'BRANDCODE', 'BRAND', 'CATEGORY_NAME1', 'CATEGORY_NAME2', 'CATEGORY_NAME3', 'GENDER']\n"
          ]
        }
      ],
      "source": [
        "columns_with_nan = data2.columns[data2.isnull().any()].to_list()\n",
        "print(columns_with_nan)"
      ]
    },
    {
      "cell_type": "markdown",
      "metadata": {
        "id": "cfX9pZB0kLid"
      },
      "source": [
        "### 11-Verisetinin Sutunlarında Kaç farklı Type var Onu Bulalım"
      ]
    },
    {
      "cell_type": "code",
      "execution_count": 13,
      "metadata": {
        "id": "RM5v9BSlkLid",
        "colab": {
          "base_uri": "https://localhost:8080/"
        },
        "outputId": "08840e99-5e4a-4150-8ccd-02618ee2d848"
      },
      "outputs": [
        {
          "output_type": "stream",
          "name": "stdout",
          "text": [
            "4\n"
          ]
        }
      ],
      "source": [
        "nunique_data_types = data2.dtypes.nunique()\n",
        "print(nunique_data_types)"
      ]
    },
    {
      "cell_type": "markdown",
      "metadata": {
        "id": "YPZSIJjEkLie"
      },
      "source": [
        "### 12- Verisetinin Sutunlarındaki Eşsiz Type Nelerdir Onlara Bakalım"
      ]
    },
    {
      "cell_type": "code",
      "execution_count": 14,
      "metadata": {
        "id": "WSTODf7TkLie",
        "colab": {
          "base_uri": "https://localhost:8080/"
        },
        "outputId": "343a4bd8-7bcf-4132-bb52-415ea1d761b7"
      },
      "outputs": [
        {
          "output_type": "stream",
          "name": "stdout",
          "text": [
            "[dtype('float64') dtype('O') dtype('int64') dtype('<M8[ns]')]\n"
          ]
        }
      ],
      "source": [
        "unique_data_types = data2.dtypes.unique()\n",
        "print(unique_data_types)"
      ]
    },
    {
      "cell_type": "markdown",
      "metadata": {
        "id": "u9ko_jzNkLie"
      },
      "source": [
        "### 13-Verisetinin İlk 5 Satırını Yazdıralım"
      ]
    },
    {
      "cell_type": "code",
      "execution_count": 15,
      "metadata": {
        "id": "BEVkdYbYkLie",
        "colab": {
          "base_uri": "https://localhost:8080/"
        },
        "outputId": "47c66f86-8db1-4a7e-b71a-b5a30319e3d9"
      },
      "outputs": [
        {
          "output_type": "stream",
          "name": "stdout",
          "text": [
            "        ID  ITEMCODE                         ITEMNAME  FICHENO      DATE_  \\\n",
            "0  11738.0    5863.0  SPRITE 1 LT LIMON AROMALI GAZOZ    18456 2017-01-07   \n",
            "1  10537.0       8.0                        TOZ SEKER    18105 2017-01-06   \n",
            "2  11335.0    5979.0             FALIM SAKIZ 5LI NANE    18350 2017-01-03   \n",
            "3  11336.0    5979.0             FALIM SAKIZ 5LI NANE    18350 2017-01-03   \n",
            "4  10115.0   12808.0            FALIM SAKIZ 5LI CILEK    18005 2017-01-05   \n",
            "\n",
            "   AMOUNT  PRICE  LINENETTOTAL  LINENET  BRANCHNR           BRANCH  \\\n",
            "0     1.0   2.00          2.00     1.85      52.0   Kocaeli Subesi   \n",
            "1     5.0   2.65         13.25    12.27       8.0   Antalya Subesi   \n",
            "2     1.0   0.40          0.40     0.37      40.0  İstanbul Subesi   \n",
            "3     1.0   0.40          0.40     0.37      40.0  İstanbul Subesi   \n",
            "4     1.0   0.40          0.40     0.37      41.0     İzmir Subesi   \n",
            "\n",
            "       SALESMAN      CITY   REGION  LATITUDE  LONGITUDE CLIENTCODE  \\\n",
            "0     Eyüp CİNE   Kocaeli  Marmara   40.8533    29.8815     467369   \n",
            "1  İlhan ÖRENLİ   Antalya  Akdeniz   36.8841    30.7056     131464   \n",
            "2  İsmet SARTIK  İstanbul  Marmara   41.0053    28.9770     656969   \n",
            "3  İsmet SARTIK  İstanbul  Marmara   41.0053    28.9770     656969   \n",
            "4  Gülten IŞLAK     İzmir      Ege   38.4189    27.1287     447336   \n",
            "\n",
            "       CLIENTNAME BRANDCODE   BRAND CATEGORY_NAME1   CATEGORY_NAME2  \\\n",
            "0  Sercan KIZILOK       156  SPRİTE         İÇECEK     GAZLI İÇECEK   \n",
            "1    İsmet ŞINGIR       NaN     NaN         İÇECEK        ÇAY KAHVE   \n",
            "2     Yağız KUBAL       300   FALIM           GIDA  SAKIZ SEKERLEME   \n",
            "3     Yağız KUBAL       300   FALIM           GIDA  SAKIZ SEKERLEME   \n",
            "4    Habibe AYSAN       300   FALIM           GIDA  SAKIZ SEKERLEME   \n",
            "\n",
            "       CATEGORY_NAME3           STARTDATE             ENDDATE GENDER  \n",
            "0               GAZOZ 2017-01-08 16:16:11 2017-01-08 16:17:13      E  \n",
            "1  SEKER TATLANDIRICI 2017-01-07 11:04:34 2017-01-07 11:05:37      E  \n",
            "2               SAKIZ 2017-01-04 14:00:03 2017-01-04 14:01:01      E  \n",
            "3               SAKIZ 2017-01-04 14:00:03 2017-01-04 14:01:01      E  \n",
            "4               SAKIZ 2017-01-06 14:00:30 2017-01-06 14:01:03      K  \n"
          ]
        }
      ],
      "source": [
        "print(data2.head(5))"
      ]
    },
    {
      "cell_type": "markdown",
      "metadata": {
        "id": "68HW2NxukLie"
      },
      "source": [
        "### 14-Verisetinin son 7 Satırını Yazdıralım"
      ]
    },
    {
      "cell_type": "code",
      "execution_count": 16,
      "metadata": {
        "id": "jq640prykLie",
        "colab": {
          "base_uri": "https://localhost:8080/"
        },
        "outputId": "47b0e575-07c1-41e7-cbaa-60f6e813bb15"
      },
      "outputs": [
        {
          "output_type": "stream",
          "name": "stdout",
          "text": [
            "              ID  ITEMCODE                  ITEMNAME  FICHENO      DATE_  \\\n",
            "611101  511342.0    6480.0  UNO KEPEKLI EKMEK 470GR.   134601 2017-03-18   \n",
            "611102  512198.0       7.0              EKMEK 250 GR   134742 2017-03-18   \n",
            "611103  511703.0       7.0              EKMEK 250 GR   134656 2017-03-18   \n",
            "611104  511496.0       7.0              EKMEK 250 GR   134630 2017-03-18   \n",
            "611105  492612.0       7.0              EKMEK 250 GR   130100 2017-03-15   \n",
            "611106  512343.0       7.0              EKMEK 250 GR   134762 2017-03-18   \n",
            "611107  512179.0    3942.0    ETI 80 GR KARAM BITTER   134738 2017-03-18   \n",
            "\n",
            "        AMOUNT  PRICE  LINENETTOTAL  LINENET  BRANCHNR           BRANCH  \\\n",
            "611101     1.0   3.25          3.25     3.22      73.0  Tekirdağ Subesi   \n",
            "611102     1.0   0.90          0.90     0.89      40.0  İstanbul Subesi   \n",
            "611103     1.0   0.90          0.90     0.89      66.0   Sakarya Subesi   \n",
            "611104     1.0   0.90          0.90     0.89       7.0    Ankara Subesi   \n",
            "611105     1.0   0.90          0.90     0.89      59.0     Muğla Subesi   \n",
            "611106     1.0   0.90          0.90     0.88      40.0  İstanbul Subesi   \n",
            "611107     1.0   1.90          1.90     1.76      74.0     Tokat Subesi   \n",
            "\n",
            "              SALESMAN      CITY      REGION  LATITUDE  LONGITUDE CLIENTCODE  \\\n",
            "611101  Aleyna ÇUKUREL  Tekirdağ     Marmara   40.9833    27.5167      16670   \n",
            "611102    İsmet SARTIK  İstanbul     Marmara   41.0053    28.9770     523722   \n",
            "611103  Beren BULGURCU   Sakarya     Marmara   40.6940    30.4358     374191   \n",
            "611104       Eda SINAV    Ankara  İç Anadolu   39.9208    32.8541     656248   \n",
            "611105  Nisa nur SAĞIM     Muğla         Ege   37.2153    28.3636      78643   \n",
            "611106     Arife DORAP  İstanbul     Marmara   41.0053    28.9770     926041   \n",
            "611107  Lütfiye DÖŞEME     Tokat   Karadeniz   40.3167    36.5500     241748   \n",
            "\n",
            "              CLIENTNAME BRANDCODE BRAND CATEGORY_NAME1 CATEGORY_NAME2  \\\n",
            "611101       Berat ÖGMEN       145   UNO           GIDA  UNLU MAMÜLLER   \n",
            "611102       Özcan PAPİR       NaN   NaN           GIDA  UNLU MAMÜLLER   \n",
            "611103   Mahmut BAYATGİL       NaN   NaN           GIDA  UNLU MAMÜLLER   \n",
            "611104       Gamze BOTUÇ       NaN   NaN           GIDA  UNLU MAMÜLLER   \n",
            "611105  Cengiz BEREKETÇİ       NaN   NaN           GIDA  UNLU MAMÜLLER   \n",
            "611106  Elifnur EGİNKAYA       NaN   NaN           GIDA  UNLU MAMÜLLER   \n",
            "611107    Hacer CANDEMİR        44   ETİ           GIDA  BÜSKİVİ ÇEREZ   \n",
            "\n",
            "       CATEGORY_NAME3           STARTDATE             ENDDATE GENDER  \n",
            "611101          EKMEK 2017-03-19 18:54:51 2017-03-19 18:54:58      E  \n",
            "611102          EKMEK 2017-03-19 16:09:39 2017-03-19 16:11:10      E  \n",
            "611103          EKMEK 2017-03-19 09:39:54 2017-03-19 09:40:50      E  \n",
            "611104          EKMEK 2017-03-19 20:30:58 2017-03-19 20:31:17      K  \n",
            "611105          EKMEK 2017-03-16 17:51:04 2017-03-16 17:51:18      E  \n",
            "611106          EKMEK 2017-03-19 17:00:12 2017-03-19 17:01:20      K  \n",
            "611107        BÜSKİVİ 2017-03-19 16:00:15 2017-03-19 16:00:37      K  \n"
          ]
        }
      ],
      "source": [
        "print(data2.tail(7))"
      ]
    },
    {
      "cell_type": "markdown",
      "metadata": {
        "id": "68DWw9HGkLie"
      },
      "source": [
        "### 15- Verisetinde her satır için AMOUNT PRICE LINENETTOTAL sutunlarına ait bilgileri yazdıralım"
      ]
    },
    {
      "cell_type": "code",
      "execution_count": 17,
      "metadata": {
        "id": "4ARK5B57kLie",
        "colab": {
          "base_uri": "https://localhost:8080/"
        },
        "outputId": "2c8357b5-6630-40e6-f3e5-df65c3aded66"
      },
      "outputs": [
        {
          "output_type": "stream",
          "name": "stdout",
          "text": [
            "Amount:\n",
            "0         1.0\n",
            "1         5.0\n",
            "2         1.0\n",
            "3         1.0\n",
            "4         1.0\n",
            "         ... \n",
            "611103    1.0\n",
            "611104    1.0\n",
            "611105    1.0\n",
            "611106    1.0\n",
            "611107    1.0\n",
            "Name: AMOUNT, Length: 611108, dtype: float64\n"
          ]
        }
      ],
      "source": [
        "print(\"Amount:\")\n",
        "print(data2[\"AMOUNT\"])"
      ]
    },
    {
      "cell_type": "code",
      "execution_count": 18,
      "metadata": {
        "id": "7pfoHQG2kLie",
        "colab": {
          "base_uri": "https://localhost:8080/"
        },
        "outputId": "137cf3a8-8fa8-498b-cdbc-fb3b42520fa8"
      },
      "outputs": [
        {
          "output_type": "stream",
          "name": "stdout",
          "text": [
            "Price:\n",
            "0         2.00\n",
            "1         2.65\n",
            "2         0.40\n",
            "3         0.40\n",
            "4         0.40\n",
            "          ... \n",
            "611103    0.90\n",
            "611104    0.90\n",
            "611105    0.90\n",
            "611106    0.90\n",
            "611107    1.90\n",
            "Name: PRICE, Length: 611108, dtype: float64\n"
          ]
        }
      ],
      "source": [
        "print(\"Price:\")\n",
        "print(data2[\"PRICE\"])"
      ]
    },
    {
      "cell_type": "code",
      "execution_count": 19,
      "metadata": {
        "id": "5KTeKoTekLie",
        "colab": {
          "base_uri": "https://localhost:8080/"
        },
        "outputId": "1784b811-8ba8-4ae4-a2e7-990093eec7ec"
      },
      "outputs": [
        {
          "output_type": "stream",
          "name": "stdout",
          "text": [
            "LineNetTotal:\n",
            "0          2.00\n",
            "1         13.25\n",
            "2          0.40\n",
            "3          0.40\n",
            "4          0.40\n",
            "          ...  \n",
            "611103     0.90\n",
            "611104     0.90\n",
            "611105     0.90\n",
            "611106     0.90\n",
            "611107     1.90\n",
            "Name: LINENETTOTAL, Length: 611108, dtype: float64\n"
          ]
        }
      ],
      "source": [
        "print(\"LineNetTotal:\")\n",
        "print(data2[\"LINENETTOTAL\"])"
      ]
    },
    {
      "cell_type": "markdown",
      "metadata": {
        "id": "WZrE54IvkLie"
      },
      "source": [
        "### 16- Verisetinde LINENETTOTAL sutunda 15 den büyük olan satırları yazdıralım"
      ]
    },
    {
      "cell_type": "code",
      "execution_count": 20,
      "metadata": {
        "id": "rhUm_hi7kLie",
        "colab": {
          "base_uri": "https://localhost:8080/"
        },
        "outputId": "5add6f89-d289-4b54-b8d2-5b6ddb10d6bf"
      },
      "outputs": [
        {
          "output_type": "stream",
          "name": "stdout",
          "text": [
            "              ID  ITEMCODE                                   ITEMNAME  \\\n",
            "62        9745.0   10429.0                YUDUM AYCICEK YAGI 5 LT TNK   \n",
            "64        3322.0   19108.0             F NEFFIS AYCICEK YAGI 5 LT PET   \n",
            "95        5317.0    6217.0                   LD LODOS DENİZCİSİ SLİMS   \n",
            "239       7783.0    5571.0   WELLA KOLESTON KOPUK BOYA 5/0 ACIK KAHVE   \n",
            "250       7611.0    3187.0        F NEFFIS TAZE KASAR PEYNIRI 1000 GR   \n",
            "...          ...       ...                                        ...   \n",
            "610879  597076.0   10663.0  FAIRY H 1 ARADA BUL.MAKINESI 70'LI. LIMON   \n",
            "611060  596973.0   21588.0                                 DANA GULAS   \n",
            "611061  596365.0   21591.0                              DANA ANTRIKOT   \n",
            "611065  597287.0     968.0                   ICIM DOGAL YOGURT 2250GR   \n",
            "611068  596374.0   21584.0                          DANA KIYMALIK KG.   \n",
            "\n",
            "        FICHENO      DATE_  AMOUNT  PRICE  LINENETTOTAL  LINENET  BRANCHNR  \\\n",
            "62        17902 2017-01-06   1.000  20.49         20.49    18.97      12.0   \n",
            "64        16540 2017-01-05   1.000  17.90         17.90    16.57      39.0   \n",
            "95        16903 2017-01-05  10.000   5.00         50.00    50.00      70.0   \n",
            "239       17473 2017-01-06   1.000  15.75         15.75    13.35      56.0   \n",
            "250       17450 2017-01-06   1.000  15.75         15.75    14.58      67.0   \n",
            "...         ...        ...     ...    ...           ...      ...       ...   \n",
            "610879   154695 2017-03-30   1.000  27.50         27.50    23.31      52.0   \n",
            "611060   154689 2017-03-30   0.996  23.90         23.80    22.04      11.0   \n",
            "611061   154529 2017-03-30   0.660  27.90         18.41    17.05       7.0   \n",
            "611065   154731 2017-03-30   6.000   7.25         43.50    40.28      41.0   \n",
            "611068   154531 2017-03-30   1.042  19.90         20.74    19.21      42.0   \n",
            "\n",
            "                      BRANCH          SALESMAN           CITY      REGION  \\\n",
            "62          Balıkesir Subesi     Sami KASIMOVA      Balıkesir         Ege   \n",
            "64            Isparta Subesi   Elif nur GÜNLER        Isparta     Akdeniz   \n",
            "95              Sivas Subesi   Hümeyra GEÇİCİ)          Sivas  İç Anadolu   \n",
            "239            Manisa Subesi        Veli ÇAHAN         Manisa         Ege   \n",
            "250            Samsun Subesi      Necdet VARAL         Samsun   Karadeniz   \n",
            "...                      ...               ...            ...         ...   \n",
            "610879        Kocaeli Subesi  Halil KIRMIZIGÜN        Kocaeli     Marmara   \n",
            "611060          Aydın Subesi      Selçuk TEZEL          Aydın         Ege   \n",
            "611061         Ankara Subesi     Meliha AKTEKE         Ankara  İç Anadolu   \n",
            "611065          İzmir Subesi      Gülten IŞLAK          İzmir         Ege   \n",
            "611068  Kahramanmaraş Subesi    Duygu TEKİNSİZ  Kahramanmaraş     Akdeniz   \n",
            "\n",
            "        LATITUDE  LONGITUDE CLIENTCODE        CLIENTNAME BRANDCODE  \\\n",
            "62       39.6484    27.8826     521495      Bilal PORSUK       152   \n",
            "64       37.7648    30.5566     791614      Tayfun BATAK        49   \n",
            "95       39.7477    37.0179    1021217     Kezban GÖŞELİ       163   \n",
            "239      38.6191    27.4289     285961  Görkem ZIESCHANG       307   \n",
            "250      41.2928    36.3313     241750     Hazal ÖZBAKIŞ        49   \n",
            "...          ...        ...        ...               ...       ...   \n",
            "610879   40.8533    29.8815     712152      Hikmet YEREN       298   \n",
            "611060   37.8560    27.8416      27039   Mevlüt AYDINLIK       235   \n",
            "611061   39.9208    32.8541     350244   Reyhan ÇELİKSOY       235   \n",
            "611065   38.4189    27.1287     946400     Dursun GEYLAN        67   \n",
            "611068   37.5858    36.9371    1098716   Deniz GÖKMENLER       235   \n",
            "\n",
            "             BRAND     CATEGORY_NAME1  CATEGORY_NAME2 CATEGORY_NAME3  \\\n",
            "62           YUDUM               GIDA     SIVI YAĞLAR        AYÇİÇEK   \n",
            "64        F NEFFİS               GIDA     SIVI YAĞLAR        AYÇİÇEK   \n",
            "95             JTİ             SİGARA             NaN            NaN   \n",
            "239          WELLA           KOZMETİK       SAÇ BAKIM   SAÇ BOYALARI   \n",
            "250       F NEFFİS    SÜT KAHVALTILIK          PEYNİR  KAŞAR PEYNİRİ   \n",
            "...            ...                ...             ...            ...   \n",
            "610879       FAİRY  DETERJAN TEMİZLİK  BULAŞIK YIKAMA         MAKİNE   \n",
            "611060       KASAP           ET TAVUK      KIRMIZI ET           DANA   \n",
            "611061       KASAP           ET TAVUK      KIRMIZI ET           DANA   \n",
            "611065  İÇİM SEHER    SÜT KAHVALTILIK          YOĞURT      YOĞURTLAR   \n",
            "611068       KASAP           ET TAVUK      KIRMIZI ET           DANA   \n",
            "\n",
            "                 STARTDATE             ENDDATE GENDER  \n",
            "62     2017-01-07 14:28:00 2017-01-07 14:29:39      E  \n",
            "64     2017-01-06 20:08:26 2017-01-06 20:08:39      E  \n",
            "95     2017-01-06 13:44:22 2017-01-06 13:44:45      K  \n",
            "239    2017-01-07 14:52:34 2017-01-07 14:53:16      E  \n",
            "250    2017-01-07 20:00:19 2017-01-07 20:04:26      K  \n",
            "...                    ...                 ...    ...  \n",
            "610879 2017-03-31 12:24:13 2017-03-31 12:24:54      E  \n",
            "611060 2017-03-31 10:18:03 2017-03-31 10:18:39      E  \n",
            "611061 2017-03-31 18:27:07 2017-03-31 18:27:56      K  \n",
            "611065 2017-03-31 15:18:26 2017-03-31 15:28:25      E  \n",
            "611068 2017-03-31 18:36:26 2017-03-31 18:36:54      E  \n",
            "\n",
            "[17698 rows x 26 columns]\n"
          ]
        }
      ],
      "source": [
        "bigger_than_15_line_net_total = data2[data2[\"LINENETTOTAL\"] > 15]\n",
        "print(bigger_than_15_line_net_total)"
      ]
    },
    {
      "cell_type": "markdown",
      "metadata": {
        "id": "VYb0FMCakLie"
      },
      "source": [
        "### 17- Verisetinde BRANCH ı Balıkesir Subesi olan satırları bulalım"
      ]
    },
    {
      "cell_type": "code",
      "execution_count": 22,
      "metadata": {
        "id": "poaR-Eg_kLii",
        "colab": {
          "base_uri": "https://localhost:8080/"
        },
        "outputId": "d24164ce-637e-4d3f-fa5b-3abf1c08aa1d"
      },
      "outputs": [
        {
          "output_type": "stream",
          "name": "stdout",
          "text": [
            "              ID  ITEMCODE                                ITEMNAME  FICHENO  \\\n",
            "15        9625.0    5780.0                          SALKIM DOMATES    17865   \n",
            "16        9748.0    5715.0                                 PATATES    17902   \n",
            "62        9745.0   10429.0             YUDUM AYCICEK YAGI 5 LT TNK    17902   \n",
            "124       9907.0    5710.0                           KIRMIZI BIBER    17945   \n",
            "165       3534.0   23477.0  NOGAY ÖZEL ÜRÜN YAGLI SELE ZEYTINI LUX    16607   \n",
            "...          ...       ...                                     ...      ...   \n",
            "610941  604581.0     132.0              GOZDE KOKTELY SOSIS 500 GR   156739   \n",
            "610942  604582.0     132.0              GOZDE KOKTELY SOSIS 500 GR   156739   \n",
            "611049  604585.0    5694.0                                 DOMATES   156739   \n",
            "611085  511252.0     195.0            ULKER PIKNIK KAKAOLU 3*70 GR   134582   \n",
            "611093  511278.0   18219.0                SULTAN KEP.BUGDAY EKMEGI   134590   \n",
            "\n",
            "            DATE_  AMOUNT  PRICE  LINENETTOTAL  LINENET  BRANCHNR  \\\n",
            "15     2017-01-06   0.945   5.20          4.91     4.55      12.0   \n",
            "16     2017-01-06   2.790   2.45          6.84     6.33      12.0   \n",
            "62     2017-01-06   1.000  20.49         20.49    18.97      12.0   \n",
            "124    2017-01-06   0.750   4.95          3.71     3.44      12.0   \n",
            "165    2017-01-05   0.540   9.95          5.37     4.98      12.0   \n",
            "...           ...     ...    ...           ...      ...       ...   \n",
            "610941 2017-03-31   1.000   5.50          5.50     5.09      12.0   \n",
            "610942 2017-03-31   1.000   5.50          5.50     5.09      12.0   \n",
            "611049 2017-03-31   1.040   2.65          2.76     2.56      12.0   \n",
            "611085 2017-03-18   1.000   1.50          1.50     1.39      12.0   \n",
            "611093 2017-03-18   1.000   1.00          1.00     0.99      12.0   \n",
            "\n",
            "                  BRANCH       SALESMAN       CITY REGION  LATITUDE  \\\n",
            "15      Balıkesir Subesi  Sami KASIMOVA  Balıkesir    Ege   39.6484   \n",
            "16      Balıkesir Subesi  Sami KASIMOVA  Balıkesir    Ege   39.6484   \n",
            "62      Balıkesir Subesi  Sami KASIMOVA  Balıkesir    Ege   39.6484   \n",
            "124     Balıkesir Subesi  Neriman BEYAZ  Balıkesir    Ege   39.6484   \n",
            "165     Balıkesir Subesi  Sami KASIMOVA  Balıkesir    Ege   39.6484   \n",
            "...                  ...            ...        ...    ...       ...   \n",
            "610941  Balıkesir Subesi  Neriman BEYAZ  Balıkesir    Ege   39.6484   \n",
            "610942  Balıkesir Subesi  Neriman BEYAZ  Balıkesir    Ege   39.6484   \n",
            "611049  Balıkesir Subesi  Neriman BEYAZ  Balıkesir    Ege   39.6484   \n",
            "611085  Balıkesir Subesi   Sıraç MEHMET  Balıkesir    Ege   39.6484   \n",
            "611093  Balıkesir Subesi  Sami KASIMOVA  Balıkesir    Ege   39.6484   \n",
            "\n",
            "        LONGITUDE CLIENTCODE       CLIENTNAME BRANDCODE   BRAND  \\\n",
            "15        27.8826      74884    Miray KOÇOĞLU       A25     HAL   \n",
            "16        27.8826     521495     Bilal PORSUK       A25     HAL   \n",
            "62        27.8826     521495     Bilal PORSUK       152   YUDUM   \n",
            "124       27.8826        NaN              NaN       A25     HAL   \n",
            "165       27.8826     654286       Pınar ECİR        99   NOGAY   \n",
            "...           ...        ...              ...       ...     ...   \n",
            "610941    27.8826       1589     Sevda MEVSİM       NaN     NaN   \n",
            "610942    27.8826       1589     Sevda MEVSİM       NaN     NaN   \n",
            "611049    27.8826       1589     Sevda MEVSİM       A25     HAL   \n",
            "611085    27.8826     872827   Zekiye ERDAMAR       146   ÜLKER   \n",
            "611093    27.8826     628800  Hacer YOLCUOĞLU       134  SULTAN   \n",
            "\n",
            "         CATEGORY_NAME1 CATEGORY_NAME2 CATEGORY_NAME3           STARTDATE  \\\n",
            "15          MEYVE SEBZE          SEBZE            NaN 2017-01-07 11:12:54   \n",
            "16          MEYVE SEBZE          SEBZE            NaN 2017-01-07 14:28:00   \n",
            "62                 GIDA    SIVI YAĞLAR        AYÇİÇEK 2017-01-07 14:28:00   \n",
            "124         MEYVE SEBZE          SEBZE            NaN 2017-01-07 17:24:07   \n",
            "165     SÜT KAHVALTILIK         ZEYTİN            NaN 2017-01-06 09:40:58   \n",
            "...                 ...            ...            ...                 ...   \n",
            "610941         ET TAVUK   ET ŞARKÜTERİ          SOSİS 2017-04-01 16:24:46   \n",
            "610942         ET TAVUK   ET ŞARKÜTERİ          SOSİS 2017-04-01 16:24:46   \n",
            "611049      MEYVE SEBZE          SEBZE            NaN 2017-04-01 16:24:46   \n",
            "611085             GIDA  BÜSKİVİ ÇEREZ        BÜSKİVİ 2017-03-19 17:51:42   \n",
            "611093             GIDA  UNLU MAMÜLLER          EKMEK 2017-03-19 18:09:02   \n",
            "\n",
            "                   ENDDATE GENDER  \n",
            "15     2017-01-07 11:13:35      K  \n",
            "16     2017-01-07 14:29:39      E  \n",
            "62     2017-01-07 14:29:39      E  \n",
            "124    2017-01-07 17:24:25    NaN  \n",
            "165    2017-01-06 09:42:01      K  \n",
            "...                    ...    ...  \n",
            "610941 2017-04-01 16:25:31      K  \n",
            "610942 2017-04-01 16:25:31      K  \n",
            "611049 2017-04-01 16:25:31      K  \n",
            "611085 2017-03-19 17:52:13      K  \n",
            "611093 2017-03-19 18:09:23      K  \n",
            "\n",
            "[9428 rows x 26 columns]\n"
          ]
        }
      ],
      "source": [
        "balikesir_branch = data2[data2[\"BRANCH\"] == \"Balıkesir Subesi\"]\n",
        "print(balikesir_branch)"
      ]
    },
    {
      "cell_type": "markdown",
      "metadata": {
        "id": "H6-bocd8kLij"
      },
      "source": [
        "### 18- Verisetinde Balıkesir Subesinde LINENETTOTAL i 2 den düsük olan satırları bulalım"
      ]
    },
    {
      "cell_type": "code",
      "execution_count": null,
      "metadata": {
        "id": "_EtxLh7fkLij"
      },
      "outputs": [],
      "source": [
        "balikesir_branch = data2[data2[\"BRANCH\"] == \"Balıkesir Subesi\"]"
      ]
    },
    {
      "cell_type": "code",
      "execution_count": 23,
      "metadata": {
        "id": "6OA_Q8y3kLij",
        "colab": {
          "base_uri": "https://localhost:8080/"
        },
        "outputId": "84a312fa-d7b1-4de0-a025-6a878bf4ccac"
      },
      "outputs": [
        {
          "output_type": "stream",
          "name": "stdout",
          "text": [
            "              ID  ITEMCODE                             ITEMNAME  FICHENO  \\\n",
            "188       9624.0    5737.0                               PIRASA    17865   \n",
            "378       8929.0   11336.0  VIVIDENT CZD TROPIKAL 14 ADET 26 GR    17688   \n",
            "468       7807.0   21130.0         COLGATE UCLU ETKI 125ML D.M.    17485   \n",
            "472       8162.0    3337.0           F SAFF ÇÖP POŞETİ ORTA BOY    17548   \n",
            "478       8119.0   21197.0            RUFFLES ORIGINALAILE 87GR    17548   \n",
            "...          ...       ...                                  ...      ...   \n",
            "610865  596300.0    5723.0                             ELMA IRI   154522   \n",
            "610903  604579.0   21140.0       FILIZ MAKARNA INCE UZUN 500 GR   156739   \n",
            "610904  604580.0   21140.0       FILIZ MAKARNA INCE UZUN 500 GR   156739   \n",
            "611085  511252.0     195.0         ULKER PIKNIK KAKAOLU 3*70 GR   134582   \n",
            "611093  511278.0   18219.0             SULTAN KEP.BUGDAY EKMEGI   134590   \n",
            "\n",
            "            DATE_  AMOUNT  PRICE  LINENETTOTAL  LINENET  BRANCHNR  \\\n",
            "188    2017-01-06   1.100   1.60          1.76     1.63      12.0   \n",
            "378    2017-01-06   1.000   1.95          1.95     1.81      12.0   \n",
            "468    2017-01-06   1.000   1.95          1.95     1.81      12.0   \n",
            "472    2017-01-06   2.000   0.85          1.70     1.44      12.0   \n",
            "478    2017-01-06   1.000   1.75          1.75     1.61      12.0   \n",
            "...           ...     ...    ...           ...      ...       ...   \n",
            "610865 2017-03-30   0.715   2.30          1.64     1.52      12.0   \n",
            "610903 2017-03-31   1.000   1.25          1.25     1.15      12.0   \n",
            "610904 2017-03-31   1.000   1.25          1.25     1.16      12.0   \n",
            "611085 2017-03-18   1.000   1.50          1.50     1.39      12.0   \n",
            "611093 2017-03-18   1.000   1.00          1.00     0.99      12.0   \n",
            "\n",
            "                  BRANCH        SALESMAN       CITY REGION  LATITUDE  \\\n",
            "188     Balıkesir Subesi   Sami KASIMOVA  Balıkesir    Ege   39.6484   \n",
            "378     Balıkesir Subesi   Neriman BEYAZ  Balıkesir    Ege   39.6484   \n",
            "468     Balıkesir Subesi  Esmanur GÖLBAŞ  Balıkesir    Ege   39.6484   \n",
            "472     Balıkesir Subesi   Sami KASIMOVA  Balıkesir    Ege   39.6484   \n",
            "478     Balıkesir Subesi   Sami KASIMOVA  Balıkesir    Ege   39.6484   \n",
            "...                  ...             ...        ...    ...       ...   \n",
            "610865  Balıkesir Subesi   Neriman BEYAZ  Balıkesir    Ege   39.6484   \n",
            "610903  Balıkesir Subesi   Neriman BEYAZ  Balıkesir    Ege   39.6484   \n",
            "610904  Balıkesir Subesi   Neriman BEYAZ  Balıkesir    Ege   39.6484   \n",
            "611085  Balıkesir Subesi    Sıraç MEHMET  Balıkesir    Ege   39.6484   \n",
            "611093  Balıkesir Subesi   Sami KASIMOVA  Balıkesir    Ege   39.6484   \n",
            "\n",
            "        LONGITUDE CLIENTCODE       CLIENTNAME BRANDCODE     BRAND  \\\n",
            "188       27.8826      74884    Miray KOÇOĞLU       A25       HAL   \n",
            "378       27.8826     434547      Zerda OKKAY       148  VİVİDENT   \n",
            "468       27.8826      97917   Alparslan OGUR       245   COLGATE   \n",
            "472       27.8826      48405    Birol BORAZAN        50    F SAFF   \n",
            "478       27.8826      48405    Birol BORAZAN        54     FRİTO   \n",
            "...           ...        ...              ...       ...       ...   \n",
            "610865    27.8826     946477  Şengül BALCIDAN       A25       HAL   \n",
            "610903    27.8826       1589     Sevda MEVSİM        52     FİLİZ   \n",
            "610904    27.8826       1589     Sevda MEVSİM        52     FİLİZ   \n",
            "611085    27.8826     872827   Zekiye ERDAMAR       146     ÜLKER   \n",
            "611093    27.8826     628800  Hacer YOLCUOĞLU       134    SULTAN   \n",
            "\n",
            "       CATEGORY_NAME1         CATEGORY_NAME2         CATEGORY_NAME3  \\\n",
            "188       MEYVE SEBZE                  SEBZE                    NaN   \n",
            "378              GIDA        SAKIZ SEKERLEME                  SAKIZ   \n",
            "468          KOZMETİK             AĞIZ BAKIM             DİŞ MACUNU   \n",
            "472                EV  MUTFAK EŞYA GEREÇLERİ  MUTFAK SARF MALZEMESİ   \n",
            "478              GIDA          BÜSKİVİ ÇEREZ                   CİPS   \n",
            "...               ...                    ...                    ...   \n",
            "610865    MEYVE SEBZE                  MEYVE                    NaN   \n",
            "610903           GIDA                MAKARNA               MAKARNA    \n",
            "610904           GIDA                MAKARNA               MAKARNA    \n",
            "611085           GIDA          BÜSKİVİ ÇEREZ                BÜSKİVİ   \n",
            "611093           GIDA          UNLU MAMÜLLER                  EKMEK   \n",
            "\n",
            "                 STARTDATE             ENDDATE GENDER  \n",
            "188    2017-01-07 11:12:54 2017-01-07 11:13:35      K  \n",
            "378    2017-01-07 17:40:58 2017-01-07 17:42:29      K  \n",
            "468    2017-01-07 18:36:18 2017-01-07 18:36:29      E  \n",
            "472    2017-01-07 16:24:26 2017-01-07 16:33:56      E  \n",
            "478    2017-01-07 16:24:26 2017-01-07 16:33:56      E  \n",
            "...                    ...                 ...    ...  \n",
            "610865 2017-03-31 17:45:24 2017-03-31 17:46:33      K  \n",
            "610903 2017-04-01 16:24:46 2017-04-01 16:25:31      K  \n",
            "610904 2017-04-01 16:24:46 2017-04-01 16:25:31      K  \n",
            "611085 2017-03-19 17:51:42 2017-03-19 17:52:13      K  \n",
            "611093 2017-03-19 18:09:02 2017-03-19 18:09:23      K  \n",
            "\n",
            "[4040 rows x 26 columns]\n"
          ]
        }
      ],
      "source": [
        "balikesir_branch_line_net_total_less_than_2 = balikesir_branch[balikesir_branch[\"LINENETTOTAL\"] < 2]\n",
        "print(balikesir_branch_line_net_total_less_than_2)"
      ]
    },
    {
      "cell_type": "markdown",
      "metadata": {
        "id": "H70NQf_gkLik"
      },
      "source": [
        "### 19- Verisetindeki Sutunlardan ITEMNAME => URUN_ADI , ITEMCODE=> URUN_ID,BRANCH=>SUBE_ADI olarak değiştirin"
      ]
    },
    {
      "cell_type": "code",
      "execution_count": 26,
      "metadata": {
        "id": "3vkmcFHYkLik",
        "colab": {
          "base_uri": "https://localhost:8080/"
        },
        "outputId": "850d78f8-0943-48e3-d4ab-65b50ad396ed"
      },
      "outputs": [
        {
          "output_type": "stream",
          "name": "stdout",
          "text": [
            "        ID  URUN_ID                         URUN_ADI  FICHENO      DATE_  \\\n",
            "0  11738.0   5863.0  SPRITE 1 LT LIMON AROMALI GAZOZ    18456 2017-01-07   \n",
            "1  10537.0      8.0                        TOZ SEKER    18105 2017-01-06   \n",
            "2  11335.0   5979.0             FALIM SAKIZ 5LI NANE    18350 2017-01-03   \n",
            "3  11336.0   5979.0             FALIM SAKIZ 5LI NANE    18350 2017-01-03   \n",
            "4  10115.0  12808.0            FALIM SAKIZ 5LI CILEK    18005 2017-01-05   \n",
            "\n",
            "   AMOUNT  PRICE  LINENETTOTAL  LINENET  BRANCHNR         SUBE_ADI  \\\n",
            "0     1.0   2.00          2.00     1.85      52.0   Kocaeli Subesi   \n",
            "1     5.0   2.65         13.25    12.27       8.0   Antalya Subesi   \n",
            "2     1.0   0.40          0.40     0.37      40.0  İstanbul Subesi   \n",
            "3     1.0   0.40          0.40     0.37      40.0  İstanbul Subesi   \n",
            "4     1.0   0.40          0.40     0.37      41.0     İzmir Subesi   \n",
            "\n",
            "       SALESMAN      CITY   REGION  LATITUDE  LONGITUDE CLIENTCODE  \\\n",
            "0     Eyüp CİNE   Kocaeli  Marmara   40.8533    29.8815     467369   \n",
            "1  İlhan ÖRENLİ   Antalya  Akdeniz   36.8841    30.7056     131464   \n",
            "2  İsmet SARTIK  İstanbul  Marmara   41.0053    28.9770     656969   \n",
            "3  İsmet SARTIK  İstanbul  Marmara   41.0053    28.9770     656969   \n",
            "4  Gülten IŞLAK     İzmir      Ege   38.4189    27.1287     447336   \n",
            "\n",
            "       CLIENTNAME BRANDCODE   BRAND CATEGORY_NAME1   CATEGORY_NAME2  \\\n",
            "0  Sercan KIZILOK       156  SPRİTE         İÇECEK     GAZLI İÇECEK   \n",
            "1    İsmet ŞINGIR       NaN     NaN         İÇECEK        ÇAY KAHVE   \n",
            "2     Yağız KUBAL       300   FALIM           GIDA  SAKIZ SEKERLEME   \n",
            "3     Yağız KUBAL       300   FALIM           GIDA  SAKIZ SEKERLEME   \n",
            "4    Habibe AYSAN       300   FALIM           GIDA  SAKIZ SEKERLEME   \n",
            "\n",
            "       CATEGORY_NAME3           STARTDATE             ENDDATE GENDER  \n",
            "0               GAZOZ 2017-01-08 16:16:11 2017-01-08 16:17:13      E  \n",
            "1  SEKER TATLANDIRICI 2017-01-07 11:04:34 2017-01-07 11:05:37      E  \n",
            "2               SAKIZ 2017-01-04 14:00:03 2017-01-04 14:01:01      E  \n",
            "3               SAKIZ 2017-01-04 14:00:03 2017-01-04 14:01:01      E  \n",
            "4               SAKIZ 2017-01-06 14:00:30 2017-01-06 14:01:03      K  \n"
          ]
        }
      ],
      "source": [
        "data2.rename(columns={'ITEMNAME': 'URUN_ADI', 'ITEMCODE': 'URUN_ID', 'BRANCH': 'SUBE_ADI'}, inplace=True)\n",
        "print(data2.head())"
      ]
    },
    {
      "cell_type": "markdown",
      "metadata": {
        "id": "E0ocn9VWkLil"
      },
      "source": [
        "### 20- Verisetimizin 100-103 arasındaki satırlarının ID den LINENETTOTAL a kadar olan sutunlardaki değerlerini yazdırınız."
      ]
    },
    {
      "cell_type": "code",
      "execution_count": 29,
      "metadata": {
        "id": "vdzumV3kkLil",
        "colab": {
          "base_uri": "https://localhost:8080/"
        },
        "outputId": "eef36381-c322-4356-d408-bd3480f7b825"
      },
      "outputs": [
        {
          "output_type": "stream",
          "name": "stdout",
          "text": [
            "     URUN_ID                                URUN_ADI  FICHENO      DATE_  \\\n",
            "100  23467.0  BURDAN 30 LU BUYUK BOY KAPAKLI YUMURTA    15772 2017-01-02   \n",
            "101    446.0             ULKER COKOKREM 700GR.-1202-    16839 2017-01-05   \n",
            "102   2660.0        NESTLE NESQUIK 500 GR %20 BEDAVA    17836 2017-01-06   \n",
            "103    263.0                 YAHYAOGLU 15 LI YUMURTA    17752 2017-01-06   \n",
            "\n",
            "     AMOUNT  PRICE  LINENETTOTAL  \n",
            "100     1.0   9.95          9.95  \n",
            "101     1.0   8.25          8.25  \n",
            "102     1.0   5.90          5.90  \n",
            "103     1.0   4.85          4.85  \n"
          ]
        }
      ],
      "source": [
        "selected_rows_and_columns = data2.loc[100:103, 'URUN_ID': 'LINENETTOTAL']\n",
        "print(selected_rows_and_columns)"
      ]
    },
    {
      "cell_type": "markdown",
      "metadata": {
        "id": "XDY91CufkLil"
      },
      "source": [
        "### 21- Verisetindeki CATEGORY_NAME3 sutununu verisetinden silelim"
      ]
    },
    {
      "cell_type": "code",
      "execution_count": 30,
      "metadata": {
        "id": "LjjFG1VlkLim",
        "colab": {
          "base_uri": "https://localhost:8080/"
        },
        "outputId": "62b25ee0-8e21-4964-9ce1-897f8d6632e1"
      },
      "outputs": [
        {
          "output_type": "stream",
          "name": "stdout",
          "text": [
            "        ID  URUN_ID                         URUN_ADI  FICHENO      DATE_  \\\n",
            "0  11738.0   5863.0  SPRITE 1 LT LIMON AROMALI GAZOZ    18456 2017-01-07   \n",
            "1  10537.0      8.0                        TOZ SEKER    18105 2017-01-06   \n",
            "2  11335.0   5979.0             FALIM SAKIZ 5LI NANE    18350 2017-01-03   \n",
            "3  11336.0   5979.0             FALIM SAKIZ 5LI NANE    18350 2017-01-03   \n",
            "4  10115.0  12808.0            FALIM SAKIZ 5LI CILEK    18005 2017-01-05   \n",
            "\n",
            "   AMOUNT  PRICE  LINENETTOTAL  LINENET  BRANCHNR         SUBE_ADI  \\\n",
            "0     1.0   2.00          2.00     1.85      52.0   Kocaeli Subesi   \n",
            "1     5.0   2.65         13.25    12.27       8.0   Antalya Subesi   \n",
            "2     1.0   0.40          0.40     0.37      40.0  İstanbul Subesi   \n",
            "3     1.0   0.40          0.40     0.37      40.0  İstanbul Subesi   \n",
            "4     1.0   0.40          0.40     0.37      41.0     İzmir Subesi   \n",
            "\n",
            "       SALESMAN      CITY   REGION  LATITUDE  LONGITUDE CLIENTCODE  \\\n",
            "0     Eyüp CİNE   Kocaeli  Marmara   40.8533    29.8815     467369   \n",
            "1  İlhan ÖRENLİ   Antalya  Akdeniz   36.8841    30.7056     131464   \n",
            "2  İsmet SARTIK  İstanbul  Marmara   41.0053    28.9770     656969   \n",
            "3  İsmet SARTIK  İstanbul  Marmara   41.0053    28.9770     656969   \n",
            "4  Gülten IŞLAK     İzmir      Ege   38.4189    27.1287     447336   \n",
            "\n",
            "       CLIENTNAME BRANDCODE   BRAND CATEGORY_NAME1   CATEGORY_NAME2  \\\n",
            "0  Sercan KIZILOK       156  SPRİTE         İÇECEK     GAZLI İÇECEK   \n",
            "1    İsmet ŞINGIR       NaN     NaN         İÇECEK        ÇAY KAHVE   \n",
            "2     Yağız KUBAL       300   FALIM           GIDA  SAKIZ SEKERLEME   \n",
            "3     Yağız KUBAL       300   FALIM           GIDA  SAKIZ SEKERLEME   \n",
            "4    Habibe AYSAN       300   FALIM           GIDA  SAKIZ SEKERLEME   \n",
            "\n",
            "            STARTDATE             ENDDATE GENDER  \n",
            "0 2017-01-08 16:16:11 2017-01-08 16:17:13      E  \n",
            "1 2017-01-07 11:04:34 2017-01-07 11:05:37      E  \n",
            "2 2017-01-04 14:00:03 2017-01-04 14:01:01      E  \n",
            "3 2017-01-04 14:00:03 2017-01-04 14:01:01      E  \n",
            "4 2017-01-06 14:00:30 2017-01-06 14:01:03      K  \n"
          ]
        }
      ],
      "source": [
        "data2.drop(columns=['CATEGORY_NAME3'], inplace=True)\n",
        "print(data2.head())"
      ]
    },
    {
      "cell_type": "markdown",
      "metadata": {
        "id": "2yM1FkFXkLim"
      },
      "source": [
        "### 22- Verisetinde URUN_ID sutunun en büyük değerini bulun ve ona göre boş değerlere bir değer atayın"
      ]
    },
    {
      "cell_type": "code",
      "execution_count": 31,
      "metadata": {
        "id": "6SENe-bykLim",
        "colab": {
          "base_uri": "https://localhost:8080/"
        },
        "outputId": "66cd072e-4ce9-4d1f-f5c8-f036a3998ec1"
      },
      "outputs": [
        {
          "output_type": "stream",
          "name": "stdout",
          "text": [
            "0          5863.0\n",
            "1             8.0\n",
            "2          5979.0\n",
            "3          5979.0\n",
            "4         12808.0\n",
            "           ...   \n",
            "611103        7.0\n",
            "611104        7.0\n",
            "611105        7.0\n",
            "611106        7.0\n",
            "611107     3942.0\n",
            "Name: URUN_ID, Length: 611108, dtype: float64\n"
          ]
        },
        {
          "output_type": "stream",
          "name": "stderr",
          "text": [
            "<ipython-input-31-179f216f1e15>:2: FutureWarning: A value is trying to be set on a copy of a DataFrame or Series through chained assignment using an inplace method.\n",
            "The behavior will change in pandas 3.0. This inplace method will never work because the intermediate object on which we are setting values always behaves as a copy.\n",
            "\n",
            "For example, when doing 'df[col].method(value, inplace=True)', try using 'df.method({col: value}, inplace=True)' or df[col] = df[col].method(value) instead, to perform the operation inplace on the original object.\n",
            "\n",
            "\n",
            "  data2['URUN_ID'].fillna(maximum_urun_id, inplace=True)\n"
          ]
        }
      ],
      "source": [
        "maximum_urun_id = data2['URUN_ID'].max()\n",
        "data2['URUN_ID'].fillna(maximum_urun_id, inplace=True)\n",
        "print(data2[\"URUN_ID\"])"
      ]
    },
    {
      "cell_type": "markdown",
      "metadata": {
        "id": "w8reiLj_kLim"
      },
      "source": [
        "### 23- Verisetinde Bulunan URUN_ADI kısmındaki değerlere \"BİLİNMEYEN ÜRÜN\" atayın"
      ]
    },
    {
      "cell_type": "code",
      "execution_count": 32,
      "metadata": {
        "id": "eKpBandrkLim",
        "colab": {
          "base_uri": "https://localhost:8080/"
        },
        "outputId": "b9fe779d-e7af-4ab3-8b10-53adc64a25eb"
      },
      "outputs": [
        {
          "output_type": "stream",
          "name": "stdout",
          "text": [
            "0         SPRITE 1 LT LIMON AROMALI GAZOZ\n",
            "1                               TOZ SEKER\n",
            "2                    FALIM SAKIZ 5LI NANE\n",
            "3                    FALIM SAKIZ 5LI NANE\n",
            "4                   FALIM SAKIZ 5LI CILEK\n",
            "                       ...               \n",
            "611103                       EKMEK 250 GR\n",
            "611104                       EKMEK 250 GR\n",
            "611105                       EKMEK 250 GR\n",
            "611106                       EKMEK 250 GR\n",
            "611107             ETI 80 GR KARAM BITTER\n",
            "Name: URUN_ADI, Length: 611108, dtype: object\n"
          ]
        },
        {
          "output_type": "stream",
          "name": "stderr",
          "text": [
            "<ipython-input-32-220cd4fb5f15>:1: FutureWarning: A value is trying to be set on a copy of a DataFrame or Series through chained assignment using an inplace method.\n",
            "The behavior will change in pandas 3.0. This inplace method will never work because the intermediate object on which we are setting values always behaves as a copy.\n",
            "\n",
            "For example, when doing 'df[col].method(value, inplace=True)', try using 'df.method({col: value}, inplace=True)' or df[col] = df[col].method(value) instead, to perform the operation inplace on the original object.\n",
            "\n",
            "\n",
            "  data2['URUN_ADI'].fillna('BİLİNMEYEN ÜRÜN', inplace=True)\n"
          ]
        }
      ],
      "source": [
        "data2['URUN_ADI'].fillna('BİLİNMEYEN ÜRÜN', inplace=True)\n",
        "print(data2[\"URUN_ADI\"])"
      ]
    },
    {
      "cell_type": "markdown",
      "metadata": {
        "id": "TVLWxbcQkLin"
      },
      "source": [
        "### 24- Verisetinde Bulunan CLIENTCODE sutunun boş değerlerine \"#unk999\"atayın"
      ]
    },
    {
      "cell_type": "code",
      "execution_count": 33,
      "metadata": {
        "collapsed": true,
        "jupyter": {
          "outputs_hidden": true
        },
        "id": "W9ZHRn9SkLin",
        "colab": {
          "base_uri": "https://localhost:8080/"
        },
        "outputId": "11142c58-597d-4957-a2fd-a0918b8d1b1d"
      },
      "outputs": [
        {
          "output_type": "stream",
          "name": "stdout",
          "text": [
            "0         467369\n",
            "1         131464\n",
            "2         656969\n",
            "3         656969\n",
            "4         447336\n",
            "           ...  \n",
            "611103    374191\n",
            "611104    656248\n",
            "611105     78643\n",
            "611106    926041\n",
            "611107    241748\n",
            "Name: CLIENTCODE, Length: 611108, dtype: object\n"
          ]
        },
        {
          "output_type": "stream",
          "name": "stderr",
          "text": [
            "<ipython-input-33-bfbd786632dc>:1: FutureWarning: A value is trying to be set on a copy of a DataFrame or Series through chained assignment using an inplace method.\n",
            "The behavior will change in pandas 3.0. This inplace method will never work because the intermediate object on which we are setting values always behaves as a copy.\n",
            "\n",
            "For example, when doing 'df[col].method(value, inplace=True)', try using 'df.method({col: value}, inplace=True)' or df[col] = df[col].method(value) instead, to perform the operation inplace on the original object.\n",
            "\n",
            "\n",
            "  data2['CLIENTCODE'].fillna('#unk999', inplace=True)\n"
          ]
        }
      ],
      "source": [
        "data2['CLIENTCODE'].fillna('#unk999', inplace=True)\n",
        "print(data2[\"CLIENTCODE\"])"
      ]
    },
    {
      "cell_type": "markdown",
      "metadata": {
        "id": "daIB9S_dkLin"
      },
      "source": [
        "### 25- Verisetinde Bulunan CLIENTNAME sutunun boş değerlerine \"BILINMEYEN MUSTERI\" atayın"
      ]
    },
    {
      "cell_type": "code",
      "execution_count": 34,
      "metadata": {
        "id": "Vy8UuXWSkLin",
        "colab": {
          "base_uri": "https://localhost:8080/"
        },
        "outputId": "6f0137ec-dfd4-4f53-aab3-86bad78c5e75"
      },
      "outputs": [
        {
          "output_type": "stream",
          "name": "stdout",
          "text": [
            "0           Sercan KIZILOK\n",
            "1             İsmet ŞINGIR\n",
            "2              Yağız KUBAL\n",
            "3              Yağız KUBAL\n",
            "4             Habibe AYSAN\n",
            "                ...       \n",
            "611103     Mahmut BAYATGİL\n",
            "611104         Gamze BOTUÇ\n",
            "611105    Cengiz BEREKETÇİ\n",
            "611106    Elifnur EGİNKAYA\n",
            "611107      Hacer CANDEMİR\n",
            "Name: CLIENTNAME, Length: 611108, dtype: object\n"
          ]
        },
        {
          "output_type": "stream",
          "name": "stderr",
          "text": [
            "<ipython-input-34-3ec5853034fa>:1: FutureWarning: A value is trying to be set on a copy of a DataFrame or Series through chained assignment using an inplace method.\n",
            "The behavior will change in pandas 3.0. This inplace method will never work because the intermediate object on which we are setting values always behaves as a copy.\n",
            "\n",
            "For example, when doing 'df[col].method(value, inplace=True)', try using 'df.method({col: value}, inplace=True)' or df[col] = df[col].method(value) instead, to perform the operation inplace on the original object.\n",
            "\n",
            "\n",
            "  data2['CLIENTNAME'].fillna('BILINMEYEN MUSTERI', inplace=True)\n"
          ]
        }
      ],
      "source": [
        "data2['CLIENTNAME'].fillna('BILINMEYEN MUSTERI', inplace=True)\n",
        "print(data2[\"CLIENTNAME\"])"
      ]
    },
    {
      "cell_type": "markdown",
      "metadata": {
        "id": "HXDKIUs3kLio"
      },
      "source": [
        "### 26- Verisetinde CATEGORY_NAME1 i dolu oup CATEGORY_NAME2 boş olan satırlar var bu satırlarda CATEGORY_NAME2 kısmına CATEGORY_NAME1 deki değeri atayalım"
      ]
    },
    {
      "cell_type": "code",
      "execution_count": 36,
      "metadata": {
        "id": "VbrCDqlxkLio",
        "colab": {
          "base_uri": "https://localhost:8080/"
        },
        "outputId": "184a0420-ec11-4128-cab5-b170da734dcf"
      },
      "outputs": [
        {
          "output_type": "stream",
          "name": "stdout",
          "text": [
            "       CATEGORY_NAME1   CATEGORY_NAME2\n",
            "0              İÇECEK     GAZLI İÇECEK\n",
            "1              İÇECEK        ÇAY KAHVE\n",
            "2                GIDA  SAKIZ SEKERLEME\n",
            "3                GIDA  SAKIZ SEKERLEME\n",
            "4                GIDA  SAKIZ SEKERLEME\n",
            "...               ...              ...\n",
            "611103           GIDA    UNLU MAMÜLLER\n",
            "611104           GIDA    UNLU MAMÜLLER\n",
            "611105           GIDA    UNLU MAMÜLLER\n",
            "611106           GIDA    UNLU MAMÜLLER\n",
            "611107           GIDA    BÜSKİVİ ÇEREZ\n",
            "\n",
            "[611108 rows x 2 columns]\n"
          ]
        }
      ],
      "source": [
        "data2.loc[data2['CATEGORY_NAME2'].isnull(), 'CATEGORY_NAME2'] = data2['CATEGORY_NAME1']\n",
        "\n",
        "print(data2[['CATEGORY_NAME1', 'CATEGORY_NAME2']])"
      ]
    },
    {
      "cell_type": "markdown",
      "metadata": {
        "id": "BL8f2E69kLio"
      },
      "source": [
        "### 27- Verisetinde Alışveriş Yapan Kişilerin Cinsiyet Sutunundaki NaN değerleri U ile Değiştirin"
      ]
    },
    {
      "cell_type": "code",
      "execution_count": 37,
      "metadata": {
        "id": "zjpCuu3KkLip",
        "colab": {
          "base_uri": "https://localhost:8080/"
        },
        "outputId": "93c9b5ae-043e-42dc-b034-8617d658d485"
      },
      "outputs": [
        {
          "output_type": "stream",
          "name": "stdout",
          "text": [
            "0         E\n",
            "1         E\n",
            "2         E\n",
            "3         E\n",
            "4         K\n",
            "         ..\n",
            "611103    E\n",
            "611104    K\n",
            "611105    E\n",
            "611106    K\n",
            "611107    K\n",
            "Name: GENDER, Length: 611108, dtype: object\n"
          ]
        },
        {
          "output_type": "stream",
          "name": "stderr",
          "text": [
            "<ipython-input-37-f04677dc9c5d>:1: FutureWarning: A value is trying to be set on a copy of a DataFrame or Series through chained assignment using an inplace method.\n",
            "The behavior will change in pandas 3.0. This inplace method will never work because the intermediate object on which we are setting values always behaves as a copy.\n",
            "\n",
            "For example, when doing 'df[col].method(value, inplace=True)', try using 'df.method({col: value}, inplace=True)' or df[col] = df[col].method(value) instead, to perform the operation inplace on the original object.\n",
            "\n",
            "\n",
            "  data2['GENDER'].fillna('U', inplace=True)\n"
          ]
        }
      ],
      "source": [
        "data2['GENDER'].fillna('U', inplace=True)\n",
        "print(data2[\"GENDER\"])"
      ]
    },
    {
      "cell_type": "markdown",
      "metadata": {
        "id": "inWfn-N6kLip"
      },
      "source": [
        "### 28-Verisetinde BRANDCODE ve BRAND sutunlarında sutunlarında boş değerlere #UN999 ve UNNBRD değerlerini atayalım"
      ]
    },
    {
      "cell_type": "code",
      "execution_count": 38,
      "metadata": {
        "id": "cyoJ0Fn5kLip",
        "colab": {
          "base_uri": "https://localhost:8080/"
        },
        "outputId": "0f460a18-dd10-40d9-f847-4e1cfe970436"
      },
      "outputs": [
        {
          "output_type": "stream",
          "name": "stdout",
          "text": [
            "       BRANDCODE   BRAND\n",
            "0            156  SPRİTE\n",
            "1         #UN999  UNNBRD\n",
            "2            300   FALIM\n",
            "3            300   FALIM\n",
            "4            300   FALIM\n",
            "...          ...     ...\n",
            "611103    #UN999  UNNBRD\n",
            "611104    #UN999  UNNBRD\n",
            "611105    #UN999  UNNBRD\n",
            "611106    #UN999  UNNBRD\n",
            "611107        44     ETİ\n",
            "\n",
            "[611108 rows x 2 columns]\n"
          ]
        },
        {
          "output_type": "stream",
          "name": "stderr",
          "text": [
            "<ipython-input-38-b668144ef26c>:1: FutureWarning: A value is trying to be set on a copy of a DataFrame or Series through chained assignment using an inplace method.\n",
            "The behavior will change in pandas 3.0. This inplace method will never work because the intermediate object on which we are setting values always behaves as a copy.\n",
            "\n",
            "For example, when doing 'df[col].method(value, inplace=True)', try using 'df.method({col: value}, inplace=True)' or df[col] = df[col].method(value) instead, to perform the operation inplace on the original object.\n",
            "\n",
            "\n",
            "  data2['BRANDCODE'].fillna('#UN999', inplace=True)\n",
            "<ipython-input-38-b668144ef26c>:2: FutureWarning: A value is trying to be set on a copy of a DataFrame or Series through chained assignment using an inplace method.\n",
            "The behavior will change in pandas 3.0. This inplace method will never work because the intermediate object on which we are setting values always behaves as a copy.\n",
            "\n",
            "For example, when doing 'df[col].method(value, inplace=True)', try using 'df.method({col: value}, inplace=True)' or df[col] = df[col].method(value) instead, to perform the operation inplace on the original object.\n",
            "\n",
            "\n",
            "  data2['BRAND'].fillna('UNNBRD', inplace=True)\n"
          ]
        }
      ],
      "source": [
        "data2['BRANDCODE'].fillna('#UN999', inplace=True)\n",
        "data2['BRAND'].fillna('UNNBRD', inplace=True)\n",
        "print(data2[['BRANDCODE', 'BRAND']])"
      ]
    },
    {
      "cell_type": "markdown",
      "metadata": {
        "id": "LoiMbVu1kLip"
      },
      "source": [
        "### 29-Verisetinde CATEGORY_NAME1  ve CATEGORY_NAME2 sutunlarında sutunlarında boş değerlere UNKCATG değerlerini atayalım"
      ]
    },
    {
      "cell_type": "code",
      "execution_count": 39,
      "metadata": {
        "id": "hfLOn98_kLiq",
        "colab": {
          "base_uri": "https://localhost:8080/"
        },
        "outputId": "05ec4d04-9765-445a-d8f6-6c021608b5d2"
      },
      "outputs": [
        {
          "output_type": "stream",
          "name": "stdout",
          "text": [
            "       CATEGORY_NAME1   CATEGORY_NAME2\n",
            "0              İÇECEK     GAZLI İÇECEK\n",
            "1              İÇECEK        ÇAY KAHVE\n",
            "2                GIDA  SAKIZ SEKERLEME\n",
            "3                GIDA  SAKIZ SEKERLEME\n",
            "4                GIDA  SAKIZ SEKERLEME\n",
            "...               ...              ...\n",
            "611103           GIDA    UNLU MAMÜLLER\n",
            "611104           GIDA    UNLU MAMÜLLER\n",
            "611105           GIDA    UNLU MAMÜLLER\n",
            "611106           GIDA    UNLU MAMÜLLER\n",
            "611107           GIDA    BÜSKİVİ ÇEREZ\n",
            "\n",
            "[611108 rows x 2 columns]\n"
          ]
        },
        {
          "output_type": "stream",
          "name": "stderr",
          "text": [
            "<ipython-input-39-092f5f9473b6>:1: FutureWarning: A value is trying to be set on a copy of a DataFrame or Series through chained assignment using an inplace method.\n",
            "The behavior will change in pandas 3.0. This inplace method will never work because the intermediate object on which we are setting values always behaves as a copy.\n",
            "\n",
            "For example, when doing 'df[col].method(value, inplace=True)', try using 'df.method({col: value}, inplace=True)' or df[col] = df[col].method(value) instead, to perform the operation inplace on the original object.\n",
            "\n",
            "\n",
            "  data2['CATEGORY_NAME1'].fillna('UNKCATG', inplace=True)\n",
            "<ipython-input-39-092f5f9473b6>:2: FutureWarning: A value is trying to be set on a copy of a DataFrame or Series through chained assignment using an inplace method.\n",
            "The behavior will change in pandas 3.0. This inplace method will never work because the intermediate object on which we are setting values always behaves as a copy.\n",
            "\n",
            "For example, when doing 'df[col].method(value, inplace=True)', try using 'df.method({col: value}, inplace=True)' or df[col] = df[col].method(value) instead, to perform the operation inplace on the original object.\n",
            "\n",
            "\n",
            "  data2['CATEGORY_NAME2'].fillna('UNKCATG', inplace=True)\n"
          ]
        }
      ],
      "source": [
        "data2['CATEGORY_NAME1'].fillna('UNKCATG', inplace=True)\n",
        "data2['CATEGORY_NAME2'].fillna('UNKCATG', inplace=True)\n",
        "print(data2[['CATEGORY_NAME1', 'CATEGORY_NAME2']])"
      ]
    },
    {
      "cell_type": "markdown",
      "metadata": {
        "id": "jkBuBsp4kLiq"
      },
      "source": [
        "### 30- Verisetinde Kalan Boş Değerleri Silelim"
      ]
    },
    {
      "cell_type": "code",
      "execution_count": 40,
      "metadata": {
        "id": "IIPRl0IKkLiq",
        "colab": {
          "base_uri": "https://localhost:8080/"
        },
        "outputId": "4ba8dc73-a027-48c3-abda-c8c9f2cf9594"
      },
      "outputs": [
        {
          "output_type": "stream",
          "name": "stdout",
          "text": [
            "              ID  URUN_ID                         URUN_ADI  FICHENO  \\\n",
            "0        11738.0   5863.0  SPRITE 1 LT LIMON AROMALI GAZOZ    18456   \n",
            "1        10537.0      8.0                        TOZ SEKER    18105   \n",
            "2        11335.0   5979.0             FALIM SAKIZ 5LI NANE    18350   \n",
            "3        11336.0   5979.0             FALIM SAKIZ 5LI NANE    18350   \n",
            "4        10115.0  12808.0            FALIM SAKIZ 5LI CILEK    18005   \n",
            "...          ...      ...                              ...      ...   \n",
            "611103  511703.0      7.0                     EKMEK 250 GR   134656   \n",
            "611104  511496.0      7.0                     EKMEK 250 GR   134630   \n",
            "611105  492612.0      7.0                     EKMEK 250 GR   130100   \n",
            "611106  512343.0      7.0                     EKMEK 250 GR   134762   \n",
            "611107  512179.0   3942.0           ETI 80 GR KARAM BITTER   134738   \n",
            "\n",
            "            DATE_  AMOUNT  PRICE  LINENETTOTAL  LINENET  BRANCHNR  \\\n",
            "0      2017-01-07     1.0   2.00          2.00     1.85      52.0   \n",
            "1      2017-01-06     5.0   2.65         13.25    12.27       8.0   \n",
            "2      2017-01-03     1.0   0.40          0.40     0.37      40.0   \n",
            "3      2017-01-03     1.0   0.40          0.40     0.37      40.0   \n",
            "4      2017-01-05     1.0   0.40          0.40     0.37      41.0   \n",
            "...           ...     ...    ...           ...      ...       ...   \n",
            "611103 2017-03-18     1.0   0.90          0.90     0.89      66.0   \n",
            "611104 2017-03-18     1.0   0.90          0.90     0.89       7.0   \n",
            "611105 2017-03-15     1.0   0.90          0.90     0.89      59.0   \n",
            "611106 2017-03-18     1.0   0.90          0.90     0.88      40.0   \n",
            "611107 2017-03-18     1.0   1.90          1.90     1.76      74.0   \n",
            "\n",
            "               SUBE_ADI        SALESMAN      CITY      REGION  LATITUDE  \\\n",
            "0        Kocaeli Subesi       Eyüp CİNE   Kocaeli     Marmara   40.8533   \n",
            "1        Antalya Subesi    İlhan ÖRENLİ   Antalya     Akdeniz   36.8841   \n",
            "2       İstanbul Subesi    İsmet SARTIK  İstanbul     Marmara   41.0053   \n",
            "3       İstanbul Subesi    İsmet SARTIK  İstanbul     Marmara   41.0053   \n",
            "4          İzmir Subesi    Gülten IŞLAK     İzmir         Ege   38.4189   \n",
            "...                 ...             ...       ...         ...       ...   \n",
            "611103   Sakarya Subesi  Beren BULGURCU   Sakarya     Marmara   40.6940   \n",
            "611104    Ankara Subesi       Eda SINAV    Ankara  İç Anadolu   39.9208   \n",
            "611105     Muğla Subesi  Nisa nur SAĞIM     Muğla         Ege   37.2153   \n",
            "611106  İstanbul Subesi     Arife DORAP  İstanbul     Marmara   41.0053   \n",
            "611107     Tokat Subesi  Lütfiye DÖŞEME     Tokat   Karadeniz   40.3167   \n",
            "\n",
            "        LONGITUDE CLIENTCODE        CLIENTNAME BRANDCODE   BRAND  \\\n",
            "0         29.8815     467369    Sercan KIZILOK       156  SPRİTE   \n",
            "1         30.7056     131464      İsmet ŞINGIR    #UN999  UNNBRD   \n",
            "2         28.9770     656969       Yağız KUBAL       300   FALIM   \n",
            "3         28.9770     656969       Yağız KUBAL       300   FALIM   \n",
            "4         27.1287     447336      Habibe AYSAN       300   FALIM   \n",
            "...           ...        ...               ...       ...     ...   \n",
            "611103    30.4358     374191   Mahmut BAYATGİL    #UN999  UNNBRD   \n",
            "611104    32.8541     656248       Gamze BOTUÇ    #UN999  UNNBRD   \n",
            "611105    28.3636      78643  Cengiz BEREKETÇİ    #UN999  UNNBRD   \n",
            "611106    28.9770     926041  Elifnur EGİNKAYA    #UN999  UNNBRD   \n",
            "611107    36.5500     241748    Hacer CANDEMİR        44     ETİ   \n",
            "\n",
            "       CATEGORY_NAME1   CATEGORY_NAME2           STARTDATE  \\\n",
            "0              İÇECEK     GAZLI İÇECEK 2017-01-08 16:16:11   \n",
            "1              İÇECEK        ÇAY KAHVE 2017-01-07 11:04:34   \n",
            "2                GIDA  SAKIZ SEKERLEME 2017-01-04 14:00:03   \n",
            "3                GIDA  SAKIZ SEKERLEME 2017-01-04 14:00:03   \n",
            "4                GIDA  SAKIZ SEKERLEME 2017-01-06 14:00:30   \n",
            "...               ...              ...                 ...   \n",
            "611103           GIDA    UNLU MAMÜLLER 2017-03-19 09:39:54   \n",
            "611104           GIDA    UNLU MAMÜLLER 2017-03-19 20:30:58   \n",
            "611105           GIDA    UNLU MAMÜLLER 2017-03-16 17:51:04   \n",
            "611106           GIDA    UNLU MAMÜLLER 2017-03-19 17:00:12   \n",
            "611107           GIDA    BÜSKİVİ ÇEREZ 2017-03-19 16:00:15   \n",
            "\n",
            "                   ENDDATE GENDER  \n",
            "0      2017-01-08 16:17:13      E  \n",
            "1      2017-01-07 11:05:37      E  \n",
            "2      2017-01-04 14:01:01      E  \n",
            "3      2017-01-04 14:01:01      E  \n",
            "4      2017-01-06 14:01:03      K  \n",
            "...                    ...    ...  \n",
            "611103 2017-03-19 09:40:50      E  \n",
            "611104 2017-03-19 20:31:17      K  \n",
            "611105 2017-03-16 17:51:18      E  \n",
            "611106 2017-03-19 17:01:20      K  \n",
            "611107 2017-03-19 16:00:37      K  \n",
            "\n",
            "[611107 rows x 25 columns]\n"
          ]
        }
      ],
      "source": [
        "data2.dropna(inplace=True)\n",
        "print(data2)"
      ]
    },
    {
      "cell_type": "markdown",
      "metadata": {
        "id": "4KHc_ivLkLiq"
      },
      "source": [
        "### 31- Mağazamızda Çalısan Eleman Sayısını Bulunuz"
      ]
    },
    {
      "cell_type": "code",
      "execution_count": 41,
      "metadata": {
        "id": "PXPMA6ENkLiq",
        "colab": {
          "base_uri": "https://localhost:8080/"
        },
        "outputId": "b5161a46-d527-4385-bb18-8e4ea257518b"
      },
      "outputs": [
        {
          "output_type": "stream",
          "name": "stdout",
          "text": [
            "52804\n"
          ]
        }
      ],
      "source": [
        "worker_count = data2['CLIENTNAME'].nunique()\n",
        "print(worker_count)"
      ]
    },
    {
      "cell_type": "markdown",
      "metadata": {
        "id": "hKGDz7cQkLiq"
      },
      "source": [
        "### 32-Şirketimizin Hangi Bölgelerde Kaç Subesi Var Onu Yazdıralım"
      ]
    },
    {
      "cell_type": "code",
      "execution_count": 44,
      "metadata": {
        "id": "dr8mhJSdkLiq",
        "colab": {
          "base_uri": "https://localhost:8080/"
        },
        "outputId": "08ad3db6-1a48-40b1-bf17-edd7ae1fa55b"
      },
      "outputs": [
        {
          "output_type": "stream",
          "name": "stdout",
          "text": [
            "CITY\n",
            "Adana              15862\n",
            "Adıyaman            4558\n",
            "Afyonkarahisar      5102\n",
            "Aksaray             3164\n",
            "Amasya              2700\n",
            "                   ...  \n",
            "Çorum               4227\n",
            "İstanbul          113622\n",
            "İzmir              32328\n",
            "Şanlıurfa          14824\n",
            "Şırnak              3750\n",
            "Name: SUBE_ADI, Length: 81, dtype: int64\n"
          ]
        }
      ],
      "source": [
        "unique_branch_count_per_city = data2.groupby('CITY')['SUBE_ADI'].count()\n",
        "print(unique_branch_count_per_city)"
      ]
    },
    {
      "cell_type": "markdown",
      "metadata": {
        "id": "iElUpDAhkLiq"
      },
      "source": [
        "### 33-En Çok Ücret Alan Fiş No ve o fişin toplam tutarını yazdırın."
      ]
    },
    {
      "cell_type": "code",
      "execution_count": 48,
      "metadata": {
        "id": "uJbMfs3NkLiq",
        "colab": {
          "base_uri": "https://localhost:8080/"
        },
        "outputId": "498c780b-239b-4f67-bd9d-a97de3070aab"
      },
      "outputs": [
        {
          "output_type": "stream",
          "name": "stdout",
          "text": [
            "Ficheno: 52800\n",
            "Total price: 1799.0\n"
          ]
        }
      ],
      "source": [
        "max_price_fiche_no = data2.loc[data2['PRICE'].idxmax(), 'FICHENO']\n",
        "total_price = data2.loc[data2['PRICE'].idxmax(), 'LINENETTOTAL']\n",
        "print(\"Ficheno:\", max_price_fiche_no)\n",
        "print(\"Total price:\", total_price)"
      ]
    },
    {
      "cell_type": "markdown",
      "metadata": {
        "id": "P_X78zrMkLir"
      },
      "source": [
        "### 34-  Şirketimizin Hangi Bölgede Ne Kadar Müşterisi Var onu yazdıralım"
      ]
    },
    {
      "cell_type": "code",
      "execution_count": 49,
      "metadata": {
        "id": "70JD2RkNkLir",
        "colab": {
          "base_uri": "https://localhost:8080/"
        },
        "outputId": "8946ece5-18b5-4942-a41b-a7ef313b49e0"
      },
      "outputs": [
        {
          "output_type": "stream",
          "name": "stdout",
          "text": [
            "CITY\n",
            "Adana              3643\n",
            "Adıyaman            982\n",
            "Afyonkarahisar     1204\n",
            "Aksaray             718\n",
            "Amasya              622\n",
            "                  ...  \n",
            "Çorum               950\n",
            "İstanbul          19813\n",
            "İzmir              6739\n",
            "Şanlıurfa          3211\n",
            "Şırnak              856\n",
            "Name: CLIENTNAME, Length: 81, dtype: int64\n"
          ]
        }
      ],
      "source": [
        "customer_count_per_city = data2.groupby('CITY')['CLIENTNAME'].nunique()\n",
        "print(customer_count_per_city)"
      ]
    },
    {
      "cell_type": "markdown",
      "metadata": {
        "id": "4ufJQHRpkLir"
      },
      "source": [
        "### 35- En Çok ürün Alan Fiş No"
      ]
    },
    {
      "cell_type": "code",
      "execution_count": 50,
      "metadata": {
        "id": "iXEipiQ8kLir",
        "colab": {
          "base_uri": "https://localhost:8080/"
        },
        "outputId": "c1eafd82-c700-4916-82b3-59eac6f6d429"
      },
      "outputs": [
        {
          "output_type": "stream",
          "name": "stdout",
          "text": [
            "EKMEK 250 GR\n"
          ]
        }
      ],
      "source": [
        "most_common_product = data2['URUN_ADI'].value_counts().idxmax()\n",
        "\n",
        "print(most_common_product)"
      ]
    },
    {
      "cell_type": "markdown",
      "metadata": {
        "id": "CndShHNbkLir"
      },
      "source": [
        "### 36-En Çok Ciro Yapan Şube ve o şubenin müşteri sayısını bulun"
      ]
    },
    {
      "cell_type": "code",
      "execution_count": 54,
      "metadata": {
        "id": "nQ3_dhqrkLir",
        "colab": {
          "base_uri": "https://localhost:8080/"
        },
        "outputId": "43124221-6558-40b2-9410-77730a67ff9a"
      },
      "outputs": [
        {
          "output_type": "stream",
          "name": "stdout",
          "text": [
            "City: İstanbul Subesi\n",
            "Customer Count: 19813\n"
          ]
        }
      ],
      "source": [
        "total_line_net_total_per_branch = data2.groupby('SUBE_ADI')['LINENETTOTAL'].sum()\n",
        "most_profitable_branch = total_line_net_total_per_branch.idxmax()\n",
        "unqiue_customer_count = data2[data2['SUBE_ADI'] == most_profitable_branch]['CLIENTNAME'].nunique()\n",
        "print(\"City:\", most_profitable_branch)\n",
        "print(\"Customer Count:\", unqiue_customer_count)\n"
      ]
    },
    {
      "cell_type": "markdown",
      "metadata": {
        "id": "oViJqD6ukLir"
      },
      "source": [
        "### 37-Müşterilerin Kasada En Çok Vakit Geçirdikleri Şube"
      ]
    },
    {
      "cell_type": "code",
      "execution_count": 56,
      "metadata": {
        "id": "-AooSlbIkLir",
        "colab": {
          "base_uri": "https://localhost:8080/"
        },
        "outputId": "48812b31-045c-404e-8147-9292bd121873"
      },
      "outputs": [
        {
          "output_type": "stream",
          "name": "stdout",
          "text": [
            "City: Adana Subesi\n"
          ]
        }
      ],
      "source": [
        "data2['START_DATE'] = pd.to_datetime(data2['STARTDATE'])\n",
        "data2['END_DATE'] = pd.to_datetime(data2['ENDDATE'])\n",
        "data2['DATE_DIFF'] = (data2['END_DATE'] - data2['START_DATE']).dt.days\n",
        "\n",
        "total_date_diff_per_branch = data2.groupby('SUBE_ADI')['DATE_DIFF'].sum()\n",
        "\n",
        "max_date_diff_branch = total_date_diff_per_branch.idxmax()\n",
        "\n",
        "print(\"City:\", max_date_diff_branch)"
      ]
    },
    {
      "cell_type": "markdown",
      "metadata": {
        "id": "div2fbL-kLis"
      },
      "source": [
        "### 38-Haftanın Günleri Bas Alınarak Ortalama cironun en yüksek olduğu gün hangisi"
      ]
    },
    {
      "cell_type": "code",
      "execution_count": 58,
      "metadata": {
        "collapsed": true,
        "jupyter": {
          "outputs_hidden": true
        },
        "id": "nZPrfnvBkLis"
      },
      "outputs": [],
      "source": [
        "data2['DATE'] = pd.to_datetime(data2['DATE_'])\n",
        "data2['WEEKDAY'] = data2['DATE_'].dt.day_name()"
      ]
    },
    {
      "cell_type": "code",
      "execution_count": 59,
      "metadata": {
        "id": "MYOOvgAVkLis"
      },
      "outputs": [],
      "source": [
        "average_revenue_per_weekday = data2.groupby('WEEKDAY')['LINENETTOTAL'].mean()\n",
        "max_average_revenue_weekday = average_revenue_per_weekday.idxmax()"
      ]
    },
    {
      "cell_type": "code",
      "execution_count": 60,
      "metadata": {
        "id": "7289xGu6kLis",
        "colab": {
          "base_uri": "https://localhost:8080/"
        },
        "outputId": "07982007-ac4a-4fad-afe0-070fb9c2a7e0"
      },
      "outputs": [
        {
          "output_type": "stream",
          "name": "stdout",
          "text": [
            "Max average revenue weekday:  Thursday\n"
          ]
        }
      ],
      "source": [
        "print(\"Max average revenue weekday: \", max_average_revenue_weekday)"
      ]
    },
    {
      "cell_type": "markdown",
      "metadata": {
        "id": "7YoRZWp3kLit"
      },
      "source": [
        "### 39-Ayın Hangi Günlerinde En Yüksek Çiro Yapılmıs?"
      ]
    },
    {
      "cell_type": "code",
      "execution_count": 66,
      "metadata": {
        "id": "NvOSoqD5kLit"
      },
      "outputs": [],
      "source": [
        "data2['MONTH'] = data2['DATE_'].dt.month\n",
        "data2['DAY'] = data2['DATE_'].dt.day"
      ]
    },
    {
      "cell_type": "code",
      "execution_count": 71,
      "metadata": {
        "id": "AtBJnQZYkLit",
        "colab": {
          "base_uri": "https://localhost:8080/"
        },
        "outputId": "efc4d311-1232-4e13-c27a-3a770053766f"
      },
      "outputs": [
        {
          "output_type": "stream",
          "name": "stdout",
          "text": [
            "(1, 17)\n",
            "MONTH: 1\n",
            "DAY: 17\n"
          ]
        }
      ],
      "source": [
        "maximum_revenue_per_day = data2.groupby(['MONTH', 'DAY'])['LINENETTOTAL'].sum().idxmax()\n",
        "print(maximum_revenue_per_day)\n",
        "print(\"MONTH:\", maximum_revenue_per_day[0])\n",
        "print(\"DAY:\", maximum_revenue_per_day[1])"
      ]
    },
    {
      "cell_type": "markdown",
      "metadata": {
        "id": "BUJxXJhhkLit"
      },
      "source": [
        "### 40- Günün Hangi Saatlerinde Yoğunluk daha Fazla Olmakta"
      ]
    },
    {
      "cell_type": "code",
      "source": [
        "data2['DATE'] = pd.to_datetime(data2['STARTDATE'])\n",
        "data2['HOUR'] = data2['STARTDATE'].dt.hour"
      ],
      "metadata": {
        "id": "DWtPQvAqF0WD"
      },
      "execution_count": 79,
      "outputs": []
    },
    {
      "cell_type": "code",
      "execution_count": 80,
      "metadata": {
        "id": "mYB_Y4iCkLit",
        "colab": {
          "base_uri": "https://localhost:8080/"
        },
        "outputId": "d9781e4b-3f04-40c1-cb9e-8ef9675edfa8"
      },
      "outputs": [
        {
          "output_type": "stream",
          "name": "stdout",
          "text": [
            "Hour: 18\n"
          ]
        }
      ],
      "source": [
        "customer_count_per_hour = data2.groupby('HOUR')['CLIENTNAME'].count()\n",
        "max_customer_count_hour = customer_count_per_hour.idxmax()\n",
        "print(\"Hour:\", max_customer_count_hour)\n"
      ]
    },
    {
      "cell_type": "markdown",
      "metadata": {
        "id": "V686GRDOkLiu"
      },
      "source": [
        "### 41-Kategori İsimlerini Yazdırın. İçlerinden Bir Tanesine ait alt urunleri bulup bu kategori arasında urunlerin satış yüzdelerini hesaplayın"
      ]
    },
    {
      "cell_type": "code",
      "execution_count": 12,
      "metadata": {
        "id": "16ESC0BPkLiu",
        "colab": {
          "base_uri": "https://localhost:8080/",
          "height": 492
        },
        "outputId": "7a97ab21-454f-40a7-a562-c428ed74f764"
      },
      "outputs": [
        {
          "output_type": "execute_result",
          "data": {
            "text/plain": [
              "CATEGORY_NAME1\n",
              "BEBEK                 3.250559\n",
              "DETERJAN TEMİZLİK     6.077362\n",
              "ET TAVUK              9.714568\n",
              "EV                    1.800082\n",
              "GIDA                 28.498988\n",
              "KAĞIT                 3.991217\n",
              "KOZMETİK              4.818167\n",
              "MEYVE SEBZE          11.109100\n",
              "PET                   0.008060\n",
              "SÜT KAHVALTILIK      19.568235\n",
              "SİGARA                7.060990\n",
              "İÇECEK               11.397985\n",
              "Name: LINENETTOTAL, dtype: float64"
            ],
            "text/html": [
              "<div>\n",
              "<style scoped>\n",
              "    .dataframe tbody tr th:only-of-type {\n",
              "        vertical-align: middle;\n",
              "    }\n",
              "\n",
              "    .dataframe tbody tr th {\n",
              "        vertical-align: top;\n",
              "    }\n",
              "\n",
              "    .dataframe thead th {\n",
              "        text-align: right;\n",
              "    }\n",
              "</style>\n",
              "<table border=\"1\" class=\"dataframe\">\n",
              "  <thead>\n",
              "    <tr style=\"text-align: right;\">\n",
              "      <th></th>\n",
              "      <th>LINENETTOTAL</th>\n",
              "    </tr>\n",
              "    <tr>\n",
              "      <th>CATEGORY_NAME1</th>\n",
              "      <th></th>\n",
              "    </tr>\n",
              "  </thead>\n",
              "  <tbody>\n",
              "    <tr>\n",
              "      <th>BEBEK</th>\n",
              "      <td>3.250559</td>\n",
              "    </tr>\n",
              "    <tr>\n",
              "      <th>DETERJAN TEMİZLİK</th>\n",
              "      <td>6.077362</td>\n",
              "    </tr>\n",
              "    <tr>\n",
              "      <th>ET TAVUK</th>\n",
              "      <td>9.714568</td>\n",
              "    </tr>\n",
              "    <tr>\n",
              "      <th>EV</th>\n",
              "      <td>1.800082</td>\n",
              "    </tr>\n",
              "    <tr>\n",
              "      <th>GIDA</th>\n",
              "      <td>28.498988</td>\n",
              "    </tr>\n",
              "    <tr>\n",
              "      <th>KAĞIT</th>\n",
              "      <td>3.991217</td>\n",
              "    </tr>\n",
              "    <tr>\n",
              "      <th>KOZMETİK</th>\n",
              "      <td>4.818167</td>\n",
              "    </tr>\n",
              "    <tr>\n",
              "      <th>MEYVE SEBZE</th>\n",
              "      <td>11.109100</td>\n",
              "    </tr>\n",
              "    <tr>\n",
              "      <th>PET</th>\n",
              "      <td>0.008060</td>\n",
              "    </tr>\n",
              "    <tr>\n",
              "      <th>SÜT KAHVALTILIK</th>\n",
              "      <td>19.568235</td>\n",
              "    </tr>\n",
              "    <tr>\n",
              "      <th>SİGARA</th>\n",
              "      <td>7.060990</td>\n",
              "    </tr>\n",
              "    <tr>\n",
              "      <th>İÇECEK</th>\n",
              "      <td>11.397985</td>\n",
              "    </tr>\n",
              "  </tbody>\n",
              "</table>\n",
              "</div><br><label><b>dtype:</b> float64</label>"
            ]
          },
          "metadata": {},
          "execution_count": 12
        }
      ],
      "source": [
        "total_per_category1 = data2.groupby('CATEGORY_NAME1')['LINENETTOTAL'].sum()\n",
        "total_per_category2 = data2.groupby('CATEGORY_NAME2')['LINENETTOTAL'].sum()\n",
        "\n",
        "total_category_count = data2['CATEGORY_NAME1'].value_counts()\n",
        "category_ratio = total_per_category1 / total_per_category2.sum() * 100\n"
      ]
    },
    {
      "cell_type": "code",
      "source": [
        "total_per_category1\n"
      ],
      "metadata": {
        "colab": {
          "base_uri": "https://localhost:8080/",
          "height": 492
        },
        "id": "g_AjidxZK3JL",
        "outputId": "c56a1e42-80de-40dd-fd59-cc090d60bdb2"
      },
      "execution_count": 13,
      "outputs": [
        {
          "output_type": "execute_result",
          "data": {
            "text/plain": [
              "CATEGORY_NAME1\n",
              "BEBEK                 74349.34\n",
              "DETERJAN TEMİZLİK    139006.19\n",
              "ET TAVUK             222199.21\n",
              "EV                    41172.89\n",
              "GIDA                 651851.21\n",
              "KAĞIT                 91290.25\n",
              "KOZMETİK             110204.90\n",
              "MEYVE SEBZE          254096.05\n",
              "PET                     184.35\n",
              "SÜT KAHVALTILIK      447580.03\n",
              "SİGARA               161504.50\n",
              "İÇECEK               260703.66\n",
              "Name: LINENETTOTAL, dtype: float64"
            ],
            "text/html": [
              "<div>\n",
              "<style scoped>\n",
              "    .dataframe tbody tr th:only-of-type {\n",
              "        vertical-align: middle;\n",
              "    }\n",
              "\n",
              "    .dataframe tbody tr th {\n",
              "        vertical-align: top;\n",
              "    }\n",
              "\n",
              "    .dataframe thead th {\n",
              "        text-align: right;\n",
              "    }\n",
              "</style>\n",
              "<table border=\"1\" class=\"dataframe\">\n",
              "  <thead>\n",
              "    <tr style=\"text-align: right;\">\n",
              "      <th></th>\n",
              "      <th>LINENETTOTAL</th>\n",
              "    </tr>\n",
              "    <tr>\n",
              "      <th>CATEGORY_NAME1</th>\n",
              "      <th></th>\n",
              "    </tr>\n",
              "  </thead>\n",
              "  <tbody>\n",
              "    <tr>\n",
              "      <th>BEBEK</th>\n",
              "      <td>74349.34</td>\n",
              "    </tr>\n",
              "    <tr>\n",
              "      <th>DETERJAN TEMİZLİK</th>\n",
              "      <td>139006.19</td>\n",
              "    </tr>\n",
              "    <tr>\n",
              "      <th>ET TAVUK</th>\n",
              "      <td>222199.21</td>\n",
              "    </tr>\n",
              "    <tr>\n",
              "      <th>EV</th>\n",
              "      <td>41172.89</td>\n",
              "    </tr>\n",
              "    <tr>\n",
              "      <th>GIDA</th>\n",
              "      <td>651851.21</td>\n",
              "    </tr>\n",
              "    <tr>\n",
              "      <th>KAĞIT</th>\n",
              "      <td>91290.25</td>\n",
              "    </tr>\n",
              "    <tr>\n",
              "      <th>KOZMETİK</th>\n",
              "      <td>110204.90</td>\n",
              "    </tr>\n",
              "    <tr>\n",
              "      <th>MEYVE SEBZE</th>\n",
              "      <td>254096.05</td>\n",
              "    </tr>\n",
              "    <tr>\n",
              "      <th>PET</th>\n",
              "      <td>184.35</td>\n",
              "    </tr>\n",
              "    <tr>\n",
              "      <th>SÜT KAHVALTILIK</th>\n",
              "      <td>447580.03</td>\n",
              "    </tr>\n",
              "    <tr>\n",
              "      <th>SİGARA</th>\n",
              "      <td>161504.50</td>\n",
              "    </tr>\n",
              "    <tr>\n",
              "      <th>İÇECEK</th>\n",
              "      <td>260703.66</td>\n",
              "    </tr>\n",
              "  </tbody>\n",
              "</table>\n",
              "</div><br><label><b>dtype:</b> float64</label>"
            ]
          },
          "metadata": {},
          "execution_count": 13
        }
      ]
    },
    {
      "cell_type": "code",
      "source": [
        "total_per_category2\n"
      ],
      "metadata": {
        "colab": {
          "base_uri": "https://localhost:8080/",
          "height": 490
        },
        "id": "FBvExHrDK363",
        "outputId": "206c9fcf-c5de-4bf1-b07c-27c5f0648452"
      },
      "execution_count": 14,
      "outputs": [
        {
          "output_type": "execute_result",
          "data": {
            "text/plain": [
              "CATEGORY_NAME2\n",
              "AĞIZ BAKIM            20563.57\n",
              "BAKLİYAT             115908.50\n",
              "BAYRAMLIK               627.18\n",
              "BEBEK BAKIM            3491.24\n",
              "BULAŞIK YIKAMA        28770.41\n",
              "                       ...    \n",
              "ÇAY KAHVE            186139.73\n",
              "ÇOCUK BEZLERİ         38676.40\n",
              "ÇİKOLATA                647.86\n",
              "ÇİKOLATA GOFRET       54784.57\n",
              "İÇ GİYİM AKSESUAR      2085.95\n",
              "Name: LINENETTOTAL, Length: 63, dtype: float64"
            ],
            "text/html": [
              "<div>\n",
              "<style scoped>\n",
              "    .dataframe tbody tr th:only-of-type {\n",
              "        vertical-align: middle;\n",
              "    }\n",
              "\n",
              "    .dataframe tbody tr th {\n",
              "        vertical-align: top;\n",
              "    }\n",
              "\n",
              "    .dataframe thead th {\n",
              "        text-align: right;\n",
              "    }\n",
              "</style>\n",
              "<table border=\"1\" class=\"dataframe\">\n",
              "  <thead>\n",
              "    <tr style=\"text-align: right;\">\n",
              "      <th></th>\n",
              "      <th>LINENETTOTAL</th>\n",
              "    </tr>\n",
              "    <tr>\n",
              "      <th>CATEGORY_NAME2</th>\n",
              "      <th></th>\n",
              "    </tr>\n",
              "  </thead>\n",
              "  <tbody>\n",
              "    <tr>\n",
              "      <th>AĞIZ BAKIM</th>\n",
              "      <td>20563.57</td>\n",
              "    </tr>\n",
              "    <tr>\n",
              "      <th>BAKLİYAT</th>\n",
              "      <td>115908.50</td>\n",
              "    </tr>\n",
              "    <tr>\n",
              "      <th>BAYRAMLIK</th>\n",
              "      <td>627.18</td>\n",
              "    </tr>\n",
              "    <tr>\n",
              "      <th>BEBEK BAKIM</th>\n",
              "      <td>3491.24</td>\n",
              "    </tr>\n",
              "    <tr>\n",
              "      <th>BULAŞIK YIKAMA</th>\n",
              "      <td>28770.41</td>\n",
              "    </tr>\n",
              "    <tr>\n",
              "      <th>...</th>\n",
              "      <td>...</td>\n",
              "    </tr>\n",
              "    <tr>\n",
              "      <th>ÇAY KAHVE</th>\n",
              "      <td>186139.73</td>\n",
              "    </tr>\n",
              "    <tr>\n",
              "      <th>ÇOCUK BEZLERİ</th>\n",
              "      <td>38676.40</td>\n",
              "    </tr>\n",
              "    <tr>\n",
              "      <th>ÇİKOLATA</th>\n",
              "      <td>647.86</td>\n",
              "    </tr>\n",
              "    <tr>\n",
              "      <th>ÇİKOLATA GOFRET</th>\n",
              "      <td>54784.57</td>\n",
              "    </tr>\n",
              "    <tr>\n",
              "      <th>İÇ GİYİM AKSESUAR</th>\n",
              "      <td>2085.95</td>\n",
              "    </tr>\n",
              "  </tbody>\n",
              "</table>\n",
              "<p>63 rows × 1 columns</p>\n",
              "</div><br><label><b>dtype:</b> float64</label>"
            ]
          },
          "metadata": {},
          "execution_count": 14
        }
      ]
    },
    {
      "cell_type": "code",
      "source": [
        "category_ratio"
      ],
      "metadata": {
        "colab": {
          "base_uri": "https://localhost:8080/",
          "height": 492
        },
        "id": "8KyBPTtiK4lD",
        "outputId": "de9cfb2b-2cee-453e-ce4a-f5159278443b"
      },
      "execution_count": 15,
      "outputs": [
        {
          "output_type": "execute_result",
          "data": {
            "text/plain": [
              "CATEGORY_NAME1\n",
              "BEBEK                 3.250559\n",
              "DETERJAN TEMİZLİK     6.077362\n",
              "ET TAVUK              9.714568\n",
              "EV                    1.800082\n",
              "GIDA                 28.498988\n",
              "KAĞIT                 3.991217\n",
              "KOZMETİK              4.818167\n",
              "MEYVE SEBZE          11.109100\n",
              "PET                   0.008060\n",
              "SÜT KAHVALTILIK      19.568235\n",
              "SİGARA                7.060990\n",
              "İÇECEK               11.397985\n",
              "Name: LINENETTOTAL, dtype: float64"
            ],
            "text/html": [
              "<div>\n",
              "<style scoped>\n",
              "    .dataframe tbody tr th:only-of-type {\n",
              "        vertical-align: middle;\n",
              "    }\n",
              "\n",
              "    .dataframe tbody tr th {\n",
              "        vertical-align: top;\n",
              "    }\n",
              "\n",
              "    .dataframe thead th {\n",
              "        text-align: right;\n",
              "    }\n",
              "</style>\n",
              "<table border=\"1\" class=\"dataframe\">\n",
              "  <thead>\n",
              "    <tr style=\"text-align: right;\">\n",
              "      <th></th>\n",
              "      <th>LINENETTOTAL</th>\n",
              "    </tr>\n",
              "    <tr>\n",
              "      <th>CATEGORY_NAME1</th>\n",
              "      <th></th>\n",
              "    </tr>\n",
              "  </thead>\n",
              "  <tbody>\n",
              "    <tr>\n",
              "      <th>BEBEK</th>\n",
              "      <td>3.250559</td>\n",
              "    </tr>\n",
              "    <tr>\n",
              "      <th>DETERJAN TEMİZLİK</th>\n",
              "      <td>6.077362</td>\n",
              "    </tr>\n",
              "    <tr>\n",
              "      <th>ET TAVUK</th>\n",
              "      <td>9.714568</td>\n",
              "    </tr>\n",
              "    <tr>\n",
              "      <th>EV</th>\n",
              "      <td>1.800082</td>\n",
              "    </tr>\n",
              "    <tr>\n",
              "      <th>GIDA</th>\n",
              "      <td>28.498988</td>\n",
              "    </tr>\n",
              "    <tr>\n",
              "      <th>KAĞIT</th>\n",
              "      <td>3.991217</td>\n",
              "    </tr>\n",
              "    <tr>\n",
              "      <th>KOZMETİK</th>\n",
              "      <td>4.818167</td>\n",
              "    </tr>\n",
              "    <tr>\n",
              "      <th>MEYVE SEBZE</th>\n",
              "      <td>11.109100</td>\n",
              "    </tr>\n",
              "    <tr>\n",
              "      <th>PET</th>\n",
              "      <td>0.008060</td>\n",
              "    </tr>\n",
              "    <tr>\n",
              "      <th>SÜT KAHVALTILIK</th>\n",
              "      <td>19.568235</td>\n",
              "    </tr>\n",
              "    <tr>\n",
              "      <th>SİGARA</th>\n",
              "      <td>7.060990</td>\n",
              "    </tr>\n",
              "    <tr>\n",
              "      <th>İÇECEK</th>\n",
              "      <td>11.397985</td>\n",
              "    </tr>\n",
              "  </tbody>\n",
              "</table>\n",
              "</div><br><label><b>dtype:</b> float64</label>"
            ]
          },
          "metadata": {},
          "execution_count": 15
        }
      ]
    }
  ],
  "metadata": {
    "kernelspec": {
      "display_name": "Python 3",
      "name": "python3"
    },
    "language_info": {
      "codemirror_mode": {
        "name": "ipython",
        "version": 3
      },
      "file_extension": ".py",
      "mimetype": "text/x-python",
      "name": "python",
      "nbconvert_exporter": "python",
      "pygments_lexer": "ipython3",
      "version": "3.9.7"
    },
    "colab": {
      "provenance": [],
      "machine_shape": "hm",
      "gpuType": "T4"
    },
    "accelerator": "GPU"
  },
  "nbformat": 4,
  "nbformat_minor": 0
}